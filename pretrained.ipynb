{
 "cells": [
  {
   "cell_type": "markdown",
   "id": "98eebd9c",
   "metadata": {},
   "source": [
    "# Import Libraries"
   ]
  },
  {
   "cell_type": "code",
   "execution_count": 247,
   "id": "d1814137",
   "metadata": {},
   "outputs": [],
   "source": [
    "import pandas as pd\n",
    "import numpy as np\n",
    "import matplotlib.pyplot as plt\n",
    "import seaborn as sns\n",
    "plt.style.use('fivethirtyeight')\n",
    "import warnings\n",
    "warnings.filterwarnings('ignore')\n",
    "import pickle"
   ]
  },
  {
   "cell_type": "code",
   "execution_count": 152,
   "id": "bb610283",
   "metadata": {},
   "outputs": [
    {
     "name": "stderr",
     "output_type": "stream",
     "text": [
      "[nltk_data] Downloading package punkt to\n",
      "[nltk_data]     C:\\Users\\92303\\AppData\\Roaming\\nltk_data...\n",
      "[nltk_data]   Package punkt is already up-to-date!\n",
      "[nltk_data] Downloading package stopwords to\n",
      "[nltk_data]     C:\\Users\\92303\\AppData\\Roaming\\nltk_data...\n",
      "[nltk_data]   Package stopwords is already up-to-date!\n",
      "[nltk_data] Downloading package wordnet to\n",
      "[nltk_data]     C:\\Users\\92303\\AppData\\Roaming\\nltk_data...\n",
      "[nltk_data]   Package wordnet is already up-to-date!\n"
     ]
    }
   ],
   "source": [
    "import nltk\n",
    "\n",
    "import re \n",
    "\n",
    "from nltk.stem import PorterStemmer # for stemming\n",
    "\n",
    "from nltk.stem import WordNetLemmatizer # for lemmatization\n",
    "\n",
    "from nltk.corpus import stopwords\n",
    "nltk.download('punkt')\n",
    "\n",
    "nltk.download('stopwords')\n",
    "nltk.download('wordnet')\n",
    "from sklearn.preprocessing import LabelEncoder\n",
    "\n",
    "from sklearn.feature_extraction.text import CountVectorizer\n",
    "\n",
    "from sklearn.feature_extraction.text import TfidfVectorizer\n",
    "\n",
    "from sklearn.model_selection import train_test_split\n",
    "\n",
    "from sklearn.naive_bayes import GaussianNB\n",
    "\n",
    "from xgboost import XGBClassifier\n",
    "\n",
    "from lightgbm import LGBMClassifier\n",
    "\n",
    "from sklearn.metrics import accuracy_score\n",
    "\n",
    "from sklearn.metrics import confusion_matrix\n",
    "from sklearn.metrics import accuracy_score\n",
    "\n",
    "from sklearn.metrics import confusion_matrix\n",
    "from sklearn.model_selection import GridSearchCV\n",
    "from sklearn.model_selection import train_test_split\n",
    "from sklearn.metrics import classification_report"
   ]
  },
  {
   "cell_type": "markdown",
   "id": "7c48d6a1",
   "metadata": {},
   "source": [
    "# LOAD THE DATASET"
   ]
  },
  {
   "cell_type": "code",
   "execution_count": 153,
   "id": "268540d1",
   "metadata": {},
   "outputs": [],
   "source": [
    "data = pd.read_csv(\"gender-classifier.csv\")"
   ]
  },
  {
   "cell_type": "code",
   "execution_count": 154,
   "id": "765bbe59",
   "metadata": {},
   "outputs": [
    {
     "data": {
      "text/html": [
       "<div>\n",
       "<style scoped>\n",
       "    .dataframe tbody tr th:only-of-type {\n",
       "        vertical-align: middle;\n",
       "    }\n",
       "\n",
       "    .dataframe tbody tr th {\n",
       "        vertical-align: top;\n",
       "    }\n",
       "\n",
       "    .dataframe thead th {\n",
       "        text-align: right;\n",
       "    }\n",
       "</style>\n",
       "<table border=\"1\" class=\"dataframe\">\n",
       "  <thead>\n",
       "    <tr style=\"text-align: right;\">\n",
       "      <th></th>\n",
       "      <th>_unit_id</th>\n",
       "      <th>_golden</th>\n",
       "      <th>_unit_state</th>\n",
       "      <th>_trusted_judgments</th>\n",
       "      <th>_last_judgment_at</th>\n",
       "      <th>gender</th>\n",
       "      <th>gender:confidence</th>\n",
       "      <th>profile_yn</th>\n",
       "      <th>profile_yn:confidence</th>\n",
       "      <th>created</th>\n",
       "      <th>...</th>\n",
       "      <th>profileimage</th>\n",
       "      <th>retweet_count</th>\n",
       "      <th>sidebar_color</th>\n",
       "      <th>text</th>\n",
       "      <th>tweet_coord</th>\n",
       "      <th>tweet_count</th>\n",
       "      <th>tweet_created</th>\n",
       "      <th>tweet_id</th>\n",
       "      <th>tweet_location</th>\n",
       "      <th>user_timezone</th>\n",
       "    </tr>\n",
       "  </thead>\n",
       "  <tbody>\n",
       "    <tr>\n",
       "      <th>0</th>\n",
       "      <td>815719226</td>\n",
       "      <td>False</td>\n",
       "      <td>finalized</td>\n",
       "      <td>3</td>\n",
       "      <td>10/26/15 23:24</td>\n",
       "      <td>male</td>\n",
       "      <td>1.0000</td>\n",
       "      <td>yes</td>\n",
       "      <td>1.0</td>\n",
       "      <td>12/5/13 1:48</td>\n",
       "      <td>...</td>\n",
       "      <td>https://pbs.twimg.com/profile_images/414342229...</td>\n",
       "      <td>0</td>\n",
       "      <td>FFFFFF</td>\n",
       "      <td>Robbie E Responds To Critics After Win Against...</td>\n",
       "      <td>NaN</td>\n",
       "      <td>110964</td>\n",
       "      <td>10/26/15 12:40</td>\n",
       "      <td>6.587300e+17</td>\n",
       "      <td>main; @Kan1shk3</td>\n",
       "      <td>Chennai</td>\n",
       "    </tr>\n",
       "    <tr>\n",
       "      <th>1</th>\n",
       "      <td>815719227</td>\n",
       "      <td>False</td>\n",
       "      <td>finalized</td>\n",
       "      <td>3</td>\n",
       "      <td>10/26/15 23:30</td>\n",
       "      <td>male</td>\n",
       "      <td>1.0000</td>\n",
       "      <td>yes</td>\n",
       "      <td>1.0</td>\n",
       "      <td>10/1/12 13:51</td>\n",
       "      <td>...</td>\n",
       "      <td>https://pbs.twimg.com/profile_images/539604221...</td>\n",
       "      <td>0</td>\n",
       "      <td>C0DEED</td>\n",
       "      <td>���It felt like they were my friends and I was...</td>\n",
       "      <td>NaN</td>\n",
       "      <td>7471</td>\n",
       "      <td>10/26/15 12:40</td>\n",
       "      <td>6.587300e+17</td>\n",
       "      <td>NaN</td>\n",
       "      <td>Eastern Time (US &amp; Canada)</td>\n",
       "    </tr>\n",
       "    <tr>\n",
       "      <th>2</th>\n",
       "      <td>815719228</td>\n",
       "      <td>False</td>\n",
       "      <td>finalized</td>\n",
       "      <td>3</td>\n",
       "      <td>10/26/15 23:33</td>\n",
       "      <td>male</td>\n",
       "      <td>0.6625</td>\n",
       "      <td>yes</td>\n",
       "      <td>1.0</td>\n",
       "      <td>11/28/14 11:30</td>\n",
       "      <td>...</td>\n",
       "      <td>https://pbs.twimg.com/profile_images/657330418...</td>\n",
       "      <td>1</td>\n",
       "      <td>C0DEED</td>\n",
       "      <td>i absolutely adore when louis starts the songs...</td>\n",
       "      <td>NaN</td>\n",
       "      <td>5617</td>\n",
       "      <td>10/26/15 12:40</td>\n",
       "      <td>6.587300e+17</td>\n",
       "      <td>clcncl</td>\n",
       "      <td>Belgrade</td>\n",
       "    </tr>\n",
       "    <tr>\n",
       "      <th>3</th>\n",
       "      <td>815719229</td>\n",
       "      <td>False</td>\n",
       "      <td>finalized</td>\n",
       "      <td>3</td>\n",
       "      <td>10/26/15 23:10</td>\n",
       "      <td>male</td>\n",
       "      <td>1.0000</td>\n",
       "      <td>yes</td>\n",
       "      <td>1.0</td>\n",
       "      <td>6/11/09 22:39</td>\n",
       "      <td>...</td>\n",
       "      <td>https://pbs.twimg.com/profile_images/259703936...</td>\n",
       "      <td>0</td>\n",
       "      <td>C0DEED</td>\n",
       "      <td>Hi @JordanSpieth - Looking at the url - do you...</td>\n",
       "      <td>NaN</td>\n",
       "      <td>1693</td>\n",
       "      <td>10/26/15 12:40</td>\n",
       "      <td>6.587300e+17</td>\n",
       "      <td>Palo Alto, CA</td>\n",
       "      <td>Pacific Time (US &amp; Canada)</td>\n",
       "    </tr>\n",
       "    <tr>\n",
       "      <th>4</th>\n",
       "      <td>815719230</td>\n",
       "      <td>False</td>\n",
       "      <td>finalized</td>\n",
       "      <td>3</td>\n",
       "      <td>10/27/15 1:15</td>\n",
       "      <td>female</td>\n",
       "      <td>1.0000</td>\n",
       "      <td>yes</td>\n",
       "      <td>1.0</td>\n",
       "      <td>4/16/14 13:23</td>\n",
       "      <td>...</td>\n",
       "      <td>https://pbs.twimg.com/profile_images/564094871...</td>\n",
       "      <td>0</td>\n",
       "      <td>0</td>\n",
       "      <td>Watching Neighbours on Sky+ catching up with t...</td>\n",
       "      <td>NaN</td>\n",
       "      <td>31462</td>\n",
       "      <td>10/26/15 12:40</td>\n",
       "      <td>6.587300e+17</td>\n",
       "      <td>NaN</td>\n",
       "      <td>NaN</td>\n",
       "    </tr>\n",
       "    <tr>\n",
       "      <th>...</th>\n",
       "      <td>...</td>\n",
       "      <td>...</td>\n",
       "      <td>...</td>\n",
       "      <td>...</td>\n",
       "      <td>...</td>\n",
       "      <td>...</td>\n",
       "      <td>...</td>\n",
       "      <td>...</td>\n",
       "      <td>...</td>\n",
       "      <td>...</td>\n",
       "      <td>...</td>\n",
       "      <td>...</td>\n",
       "      <td>...</td>\n",
       "      <td>...</td>\n",
       "      <td>...</td>\n",
       "      <td>...</td>\n",
       "      <td>...</td>\n",
       "      <td>...</td>\n",
       "      <td>...</td>\n",
       "      <td>...</td>\n",
       "      <td>...</td>\n",
       "    </tr>\n",
       "    <tr>\n",
       "      <th>20045</th>\n",
       "      <td>815757572</td>\n",
       "      <td>True</td>\n",
       "      <td>golden</td>\n",
       "      <td>259</td>\n",
       "      <td>NaN</td>\n",
       "      <td>female</td>\n",
       "      <td>1.0000</td>\n",
       "      <td>yes</td>\n",
       "      <td>1.0</td>\n",
       "      <td>8/5/15 21:16</td>\n",
       "      <td>...</td>\n",
       "      <td>https://pbs.twimg.com/profile_images/656793310...</td>\n",
       "      <td>0</td>\n",
       "      <td>C0DEED</td>\n",
       "      <td>@lookupondeath ...Fine, and I'll drink tea too...</td>\n",
       "      <td>NaN</td>\n",
       "      <td>783</td>\n",
       "      <td>10/26/15 13:20</td>\n",
       "      <td>6.587400e+17</td>\n",
       "      <td>Verona ���</td>\n",
       "      <td>NaN</td>\n",
       "    </tr>\n",
       "    <tr>\n",
       "      <th>20046</th>\n",
       "      <td>815757681</td>\n",
       "      <td>True</td>\n",
       "      <td>golden</td>\n",
       "      <td>248</td>\n",
       "      <td>NaN</td>\n",
       "      <td>male</td>\n",
       "      <td>1.0000</td>\n",
       "      <td>yes</td>\n",
       "      <td>1.0</td>\n",
       "      <td>8/15/12 21:17</td>\n",
       "      <td>...</td>\n",
       "      <td>https://pbs.twimg.com/profile_images/639815429...</td>\n",
       "      <td>0</td>\n",
       "      <td>0</td>\n",
       "      <td>Greg Hardy you a good player and all but don't...</td>\n",
       "      <td>NaN</td>\n",
       "      <td>13523</td>\n",
       "      <td>10/26/15 12:40</td>\n",
       "      <td>6.587300e+17</td>\n",
       "      <td>Kansas City, MO</td>\n",
       "      <td>NaN</td>\n",
       "    </tr>\n",
       "    <tr>\n",
       "      <th>20047</th>\n",
       "      <td>815757830</td>\n",
       "      <td>True</td>\n",
       "      <td>golden</td>\n",
       "      <td>264</td>\n",
       "      <td>NaN</td>\n",
       "      <td>male</td>\n",
       "      <td>1.0000</td>\n",
       "      <td>yes</td>\n",
       "      <td>1.0</td>\n",
       "      <td>9/3/12 1:17</td>\n",
       "      <td>...</td>\n",
       "      <td>https://pbs.twimg.com/profile_images/655473271...</td>\n",
       "      <td>0</td>\n",
       "      <td>C0DEED</td>\n",
       "      <td>You can miss people and still never want to se...</td>\n",
       "      <td>NaN</td>\n",
       "      <td>26419</td>\n",
       "      <td>10/26/15 13:20</td>\n",
       "      <td>6.587400e+17</td>\n",
       "      <td>Lagos Nigeria</td>\n",
       "      <td>NaN</td>\n",
       "    </tr>\n",
       "    <tr>\n",
       "      <th>20048</th>\n",
       "      <td>815757921</td>\n",
       "      <td>True</td>\n",
       "      <td>golden</td>\n",
       "      <td>250</td>\n",
       "      <td>NaN</td>\n",
       "      <td>female</td>\n",
       "      <td>0.8489</td>\n",
       "      <td>yes</td>\n",
       "      <td>1.0</td>\n",
       "      <td>11/6/12 23:46</td>\n",
       "      <td>...</td>\n",
       "      <td>https://pbs.twimg.com/profile_images/657716093...</td>\n",
       "      <td>0</td>\n",
       "      <td>0</td>\n",
       "      <td>@bitemyapp i had noticed your tendency to pee ...</td>\n",
       "      <td>NaN</td>\n",
       "      <td>56073</td>\n",
       "      <td>10/26/15 12:40</td>\n",
       "      <td>6.587300e+17</td>\n",
       "      <td>Texas Hill Country</td>\n",
       "      <td>NaN</td>\n",
       "    </tr>\n",
       "    <tr>\n",
       "      <th>20049</th>\n",
       "      <td>815757985</td>\n",
       "      <td>True</td>\n",
       "      <td>golden</td>\n",
       "      <td>249</td>\n",
       "      <td>NaN</td>\n",
       "      <td>female</td>\n",
       "      <td>1.0000</td>\n",
       "      <td>yes</td>\n",
       "      <td>1.0</td>\n",
       "      <td>4/14/14 17:22</td>\n",
       "      <td>...</td>\n",
       "      <td>https://pbs.twimg.com/profile_images/655134724...</td>\n",
       "      <td>0</td>\n",
       "      <td>C0DEED</td>\n",
       "      <td>I think for my APUSH creative project I'm goin...</td>\n",
       "      <td>NaN</td>\n",
       "      <td>2922</td>\n",
       "      <td>10/26/15 13:19</td>\n",
       "      <td>6.587400e+17</td>\n",
       "      <td>NaN</td>\n",
       "      <td>NaN</td>\n",
       "    </tr>\n",
       "  </tbody>\n",
       "</table>\n",
       "<p>20050 rows × 26 columns</p>\n",
       "</div>"
      ],
      "text/plain": [
       "        _unit_id  _golden _unit_state  _trusted_judgments _last_judgment_at  \\\n",
       "0      815719226    False   finalized                   3    10/26/15 23:24   \n",
       "1      815719227    False   finalized                   3    10/26/15 23:30   \n",
       "2      815719228    False   finalized                   3    10/26/15 23:33   \n",
       "3      815719229    False   finalized                   3    10/26/15 23:10   \n",
       "4      815719230    False   finalized                   3     10/27/15 1:15   \n",
       "...          ...      ...         ...                 ...               ...   \n",
       "20045  815757572     True      golden                 259               NaN   \n",
       "20046  815757681     True      golden                 248               NaN   \n",
       "20047  815757830     True      golden                 264               NaN   \n",
       "20048  815757921     True      golden                 250               NaN   \n",
       "20049  815757985     True      golden                 249               NaN   \n",
       "\n",
       "       gender  gender:confidence profile_yn  profile_yn:confidence  \\\n",
       "0        male             1.0000        yes                    1.0   \n",
       "1        male             1.0000        yes                    1.0   \n",
       "2        male             0.6625        yes                    1.0   \n",
       "3        male             1.0000        yes                    1.0   \n",
       "4      female             1.0000        yes                    1.0   \n",
       "...       ...                ...        ...                    ...   \n",
       "20045  female             1.0000        yes                    1.0   \n",
       "20046    male             1.0000        yes                    1.0   \n",
       "20047    male             1.0000        yes                    1.0   \n",
       "20048  female             0.8489        yes                    1.0   \n",
       "20049  female             1.0000        yes                    1.0   \n",
       "\n",
       "              created  ...                                       profileimage  \\\n",
       "0        12/5/13 1:48  ...  https://pbs.twimg.com/profile_images/414342229...   \n",
       "1       10/1/12 13:51  ...  https://pbs.twimg.com/profile_images/539604221...   \n",
       "2      11/28/14 11:30  ...  https://pbs.twimg.com/profile_images/657330418...   \n",
       "3       6/11/09 22:39  ...  https://pbs.twimg.com/profile_images/259703936...   \n",
       "4       4/16/14 13:23  ...  https://pbs.twimg.com/profile_images/564094871...   \n",
       "...               ...  ...                                                ...   \n",
       "20045    8/5/15 21:16  ...  https://pbs.twimg.com/profile_images/656793310...   \n",
       "20046   8/15/12 21:17  ...  https://pbs.twimg.com/profile_images/639815429...   \n",
       "20047     9/3/12 1:17  ...  https://pbs.twimg.com/profile_images/655473271...   \n",
       "20048   11/6/12 23:46  ...  https://pbs.twimg.com/profile_images/657716093...   \n",
       "20049   4/14/14 17:22  ...  https://pbs.twimg.com/profile_images/655134724...   \n",
       "\n",
       "       retweet_count sidebar_color  \\\n",
       "0                  0        FFFFFF   \n",
       "1                  0        C0DEED   \n",
       "2                  1        C0DEED   \n",
       "3                  0        C0DEED   \n",
       "4                  0             0   \n",
       "...              ...           ...   \n",
       "20045              0        C0DEED   \n",
       "20046              0             0   \n",
       "20047              0        C0DEED   \n",
       "20048              0             0   \n",
       "20049              0        C0DEED   \n",
       "\n",
       "                                                    text tweet_coord  \\\n",
       "0      Robbie E Responds To Critics After Win Against...         NaN   \n",
       "1      ���It felt like they were my friends and I was...         NaN   \n",
       "2      i absolutely adore when louis starts the songs...         NaN   \n",
       "3      Hi @JordanSpieth - Looking at the url - do you...         NaN   \n",
       "4      Watching Neighbours on Sky+ catching up with t...         NaN   \n",
       "...                                                  ...         ...   \n",
       "20045  @lookupondeath ...Fine, and I'll drink tea too...         NaN   \n",
       "20046  Greg Hardy you a good player and all but don't...         NaN   \n",
       "20047  You can miss people and still never want to se...         NaN   \n",
       "20048  @bitemyapp i had noticed your tendency to pee ...         NaN   \n",
       "20049  I think for my APUSH creative project I'm goin...         NaN   \n",
       "\n",
       "      tweet_count   tweet_created      tweet_id      tweet_location  \\\n",
       "0          110964  10/26/15 12:40  6.587300e+17     main; @Kan1shk3   \n",
       "1            7471  10/26/15 12:40  6.587300e+17                 NaN   \n",
       "2            5617  10/26/15 12:40  6.587300e+17              clcncl   \n",
       "3            1693  10/26/15 12:40  6.587300e+17       Palo Alto, CA   \n",
       "4           31462  10/26/15 12:40  6.587300e+17                 NaN   \n",
       "...           ...             ...           ...                 ...   \n",
       "20045         783  10/26/15 13:20  6.587400e+17          Verona ���   \n",
       "20046       13523  10/26/15 12:40  6.587300e+17     Kansas City, MO   \n",
       "20047       26419  10/26/15 13:20  6.587400e+17      Lagos Nigeria    \n",
       "20048       56073  10/26/15 12:40  6.587300e+17  Texas Hill Country   \n",
       "20049        2922  10/26/15 13:19  6.587400e+17                 NaN   \n",
       "\n",
       "                    user_timezone  \n",
       "0                         Chennai  \n",
       "1      Eastern Time (US & Canada)  \n",
       "2                        Belgrade  \n",
       "3      Pacific Time (US & Canada)  \n",
       "4                             NaN  \n",
       "...                           ...  \n",
       "20045                         NaN  \n",
       "20046                         NaN  \n",
       "20047                         NaN  \n",
       "20048                         NaN  \n",
       "20049                         NaN  \n",
       "\n",
       "[20050 rows x 26 columns]"
      ]
     },
     "execution_count": 154,
     "metadata": {},
     "output_type": "execute_result"
    }
   ],
   "source": [
    "data"
   ]
  },
  {
   "cell_type": "markdown",
   "id": "284c0330",
   "metadata": {},
   "source": [
    "# PRE-PROCESSING THE DATASET"
   ]
  },
  {
   "cell_type": "code",
   "execution_count": 155,
   "id": "25577155",
   "metadata": {},
   "outputs": [
    {
     "data": {
      "text/plain": [
       "(20050, 26)"
      ]
     },
     "execution_count": 155,
     "metadata": {},
     "output_type": "execute_result"
    }
   ],
   "source": [
    "data.shape"
   ]
  },
  {
   "cell_type": "code",
   "execution_count": 156,
   "id": "f2a2698a",
   "metadata": {},
   "outputs": [
    {
     "name": "stdout",
     "output_type": "stream",
     "text": [
      "<class 'pandas.core.frame.DataFrame'>\n",
      "RangeIndex: 20050 entries, 0 to 20049\n",
      "Data columns (total 26 columns):\n",
      " #   Column                 Non-Null Count  Dtype  \n",
      "---  ------                 --------------  -----  \n",
      " 0   _unit_id               20050 non-null  int64  \n",
      " 1   _golden                20050 non-null  bool   \n",
      " 2   _unit_state            20050 non-null  object \n",
      " 3   _trusted_judgments     20050 non-null  int64  \n",
      " 4   _last_judgment_at      20000 non-null  object \n",
      " 5   gender                 19953 non-null  object \n",
      " 6   gender:confidence      20024 non-null  float64\n",
      " 7   profile_yn             20050 non-null  object \n",
      " 8   profile_yn:confidence  20050 non-null  float64\n",
      " 9   created                20050 non-null  object \n",
      " 10  description            16306 non-null  object \n",
      " 11  fav_number             20050 non-null  int64  \n",
      " 12  gender_gold            50 non-null     object \n",
      " 13  link_color             20050 non-null  object \n",
      " 14  name                   20050 non-null  object \n",
      " 15  profile_yn_gold        50 non-null     object \n",
      " 16  profileimage           20050 non-null  object \n",
      " 17  retweet_count          20050 non-null  int64  \n",
      " 18  sidebar_color          20050 non-null  object \n",
      " 19  text                   20050 non-null  object \n",
      " 20  tweet_coord            159 non-null    object \n",
      " 21  tweet_count            20050 non-null  int64  \n",
      " 22  tweet_created          20050 non-null  object \n",
      " 23  tweet_id               20050 non-null  float64\n",
      " 24  tweet_location         12566 non-null  object \n",
      " 25  user_timezone          12252 non-null  object \n",
      "dtypes: bool(1), float64(3), int64(5), object(17)\n",
      "memory usage: 3.8+ MB\n"
     ]
    }
   ],
   "source": [
    "data.info()"
   ]
  },
  {
   "cell_type": "code",
   "execution_count": 157,
   "id": "8b739a68",
   "metadata": {},
   "outputs": [
    {
     "data": {
      "text/plain": [
       "_unit_id                     0\n",
       "_golden                      0\n",
       "_unit_state                  0\n",
       "_trusted_judgments           0\n",
       "_last_judgment_at           50\n",
       "gender                      97\n",
       "gender:confidence           26\n",
       "profile_yn                   0\n",
       "profile_yn:confidence        0\n",
       "created                      0\n",
       "description               3744\n",
       "fav_number                   0\n",
       "gender_gold              20000\n",
       "link_color                   0\n",
       "name                         0\n",
       "profile_yn_gold          20000\n",
       "profileimage                 0\n",
       "retweet_count                0\n",
       "sidebar_color                0\n",
       "text                         0\n",
       "tweet_coord              19891\n",
       "tweet_count                  0\n",
       "tweet_created                0\n",
       "tweet_id                     0\n",
       "tweet_location            7484\n",
       "user_timezone             7798\n",
       "dtype: int64"
      ]
     },
     "execution_count": 157,
     "metadata": {},
     "output_type": "execute_result"
    }
   ],
   "source": [
    "data.isnull().sum()"
   ]
  },
  {
   "cell_type": "markdown",
   "id": "fbf558c7",
   "metadata": {},
   "source": [
    "# Choosing only the required columns"
   ]
  },
  {
   "cell_type": "code",
   "execution_count": 158,
   "id": "80551018",
   "metadata": {},
   "outputs": [],
   "source": [
    "df = data[['gender', 'description', 'text']]"
   ]
  },
  {
   "cell_type": "code",
   "execution_count": 159,
   "id": "4ae65cd9",
   "metadata": {},
   "outputs": [
    {
     "data": {
      "text/html": [
       "<div>\n",
       "<style scoped>\n",
       "    .dataframe tbody tr th:only-of-type {\n",
       "        vertical-align: middle;\n",
       "    }\n",
       "\n",
       "    .dataframe tbody tr th {\n",
       "        vertical-align: top;\n",
       "    }\n",
       "\n",
       "    .dataframe thead th {\n",
       "        text-align: right;\n",
       "    }\n",
       "</style>\n",
       "<table border=\"1\" class=\"dataframe\">\n",
       "  <thead>\n",
       "    <tr style=\"text-align: right;\">\n",
       "      <th></th>\n",
       "      <th>gender</th>\n",
       "      <th>description</th>\n",
       "      <th>text</th>\n",
       "    </tr>\n",
       "  </thead>\n",
       "  <tbody>\n",
       "    <tr>\n",
       "      <th>0</th>\n",
       "      <td>male</td>\n",
       "      <td>i sing my own rhythm.</td>\n",
       "      <td>Robbie E Responds To Critics After Win Against...</td>\n",
       "    </tr>\n",
       "    <tr>\n",
       "      <th>1</th>\n",
       "      <td>male</td>\n",
       "      <td>I'm the author of novels filled with family dr...</td>\n",
       "      <td>���It felt like they were my friends and I was...</td>\n",
       "    </tr>\n",
       "    <tr>\n",
       "      <th>2</th>\n",
       "      <td>male</td>\n",
       "      <td>louis whining and squealing and all</td>\n",
       "      <td>i absolutely adore when louis starts the songs...</td>\n",
       "    </tr>\n",
       "    <tr>\n",
       "      <th>3</th>\n",
       "      <td>male</td>\n",
       "      <td>Mobile guy.  49ers, Shazam, Google, Kleiner Pe...</td>\n",
       "      <td>Hi @JordanSpieth - Looking at the url - do you...</td>\n",
       "    </tr>\n",
       "    <tr>\n",
       "      <th>4</th>\n",
       "      <td>female</td>\n",
       "      <td>Ricky Wilson The Best FRONTMAN/Kaiser Chiefs T...</td>\n",
       "      <td>Watching Neighbours on Sky+ catching up with t...</td>\n",
       "    </tr>\n",
       "    <tr>\n",
       "      <th>...</th>\n",
       "      <td>...</td>\n",
       "      <td>...</td>\n",
       "      <td>...</td>\n",
       "    </tr>\n",
       "    <tr>\n",
       "      <th>20045</th>\n",
       "      <td>female</td>\n",
       "      <td>(rp)</td>\n",
       "      <td>@lookupondeath ...Fine, and I'll drink tea too...</td>\n",
       "    </tr>\n",
       "    <tr>\n",
       "      <th>20046</th>\n",
       "      <td>male</td>\n",
       "      <td>Whatever you like, it's not a problem at all. ...</td>\n",
       "      <td>Greg Hardy you a good player and all but don't...</td>\n",
       "    </tr>\n",
       "    <tr>\n",
       "      <th>20047</th>\n",
       "      <td>male</td>\n",
       "      <td>#TeamBarcelona ..You look lost so you should f...</td>\n",
       "      <td>You can miss people and still never want to se...</td>\n",
       "    </tr>\n",
       "    <tr>\n",
       "      <th>20048</th>\n",
       "      <td>female</td>\n",
       "      <td>Anti-statist; I homeschool my kids. Aspiring t...</td>\n",
       "      <td>@bitemyapp i had noticed your tendency to pee ...</td>\n",
       "    </tr>\n",
       "    <tr>\n",
       "      <th>20049</th>\n",
       "      <td>female</td>\n",
       "      <td>Teamwork makes the dream work.</td>\n",
       "      <td>I think for my APUSH creative project I'm goin...</td>\n",
       "    </tr>\n",
       "  </tbody>\n",
       "</table>\n",
       "<p>20050 rows × 3 columns</p>\n",
       "</div>"
      ],
      "text/plain": [
       "       gender                                        description  \\\n",
       "0        male                              i sing my own rhythm.   \n",
       "1        male  I'm the author of novels filled with family dr...   \n",
       "2        male                louis whining and squealing and all   \n",
       "3        male  Mobile guy.  49ers, Shazam, Google, Kleiner Pe...   \n",
       "4      female  Ricky Wilson The Best FRONTMAN/Kaiser Chiefs T...   \n",
       "...       ...                                                ...   \n",
       "20045  female                                               (rp)   \n",
       "20046    male  Whatever you like, it's not a problem at all. ...   \n",
       "20047    male  #TeamBarcelona ..You look lost so you should f...   \n",
       "20048  female  Anti-statist; I homeschool my kids. Aspiring t...   \n",
       "20049  female                     Teamwork makes the dream work.   \n",
       "\n",
       "                                                    text  \n",
       "0      Robbie E Responds To Critics After Win Against...  \n",
       "1      ���It felt like they were my friends and I was...  \n",
       "2      i absolutely adore when louis starts the songs...  \n",
       "3      Hi @JordanSpieth - Looking at the url - do you...  \n",
       "4      Watching Neighbours on Sky+ catching up with t...  \n",
       "...                                                  ...  \n",
       "20045  @lookupondeath ...Fine, and I'll drink tea too...  \n",
       "20046  Greg Hardy you a good player and all but don't...  \n",
       "20047  You can miss people and still never want to se...  \n",
       "20048  @bitemyapp i had noticed your tendency to pee ...  \n",
       "20049  I think for my APUSH creative project I'm goin...  \n",
       "\n",
       "[20050 rows x 3 columns]"
      ]
     },
     "execution_count": 159,
     "metadata": {},
     "output_type": "execute_result"
    }
   ],
   "source": [
    "df"
   ]
  },
  {
   "cell_type": "markdown",
   "id": "0162a084",
   "metadata": {},
   "source": [
    "# Checking the Null Values"
   ]
  },
  {
   "cell_type": "code",
   "execution_count": 160,
   "id": "cbd79b43",
   "metadata": {},
   "outputs": [
    {
     "data": {
      "text/plain": [
       "gender           97\n",
       "description    3744\n",
       "text              0\n",
       "dtype: int64"
      ]
     },
     "execution_count": 160,
     "metadata": {},
     "output_type": "execute_result"
    }
   ],
   "source": [
    "df.isnull().sum()"
   ]
  },
  {
   "cell_type": "markdown",
   "id": "1b14bb51",
   "metadata": {},
   "source": [
    "# Removing the NULL VALUES"
   ]
  },
  {
   "cell_type": "code",
   "execution_count": 161,
   "id": "5dcadc01",
   "metadata": {},
   "outputs": [],
   "source": [
    "df.dropna(axis = 0, inplace = True)"
   ]
  },
  {
   "cell_type": "code",
   "execution_count": 162,
   "id": "70fa64bd",
   "metadata": {},
   "outputs": [
    {
     "data": {
      "text/plain": [
       "gender         0\n",
       "description    0\n",
       "text           0\n",
       "dtype: int64"
      ]
     },
     "execution_count": 162,
     "metadata": {},
     "output_type": "execute_result"
    }
   ],
   "source": [
    "df.isnull().sum()"
   ]
  },
  {
   "cell_type": "code",
   "execution_count": 163,
   "id": "93614709",
   "metadata": {},
   "outputs": [
    {
     "data": {
      "text/plain": [
       "(16224, 3)"
      ]
     },
     "execution_count": 163,
     "metadata": {},
     "output_type": "execute_result"
    }
   ],
   "source": [
    "df.shape"
   ]
  },
  {
   "cell_type": "code",
   "execution_count": 164,
   "id": "6b677849",
   "metadata": {},
   "outputs": [
    {
     "data": {
      "text/plain": [
       "female     5725\n",
       "male       5469\n",
       "brand      4328\n",
       "unknown     702\n",
       "Name: gender, dtype: int64"
      ]
     },
     "execution_count": 164,
     "metadata": {},
     "output_type": "execute_result"
    }
   ],
   "source": [
    "df['gender'].value_counts()"
   ]
  },
  {
   "cell_type": "code",
   "execution_count": 165,
   "id": "0b776c5c",
   "metadata": {},
   "outputs": [
    {
     "data": {
      "text/plain": [
       "gender         object\n",
       "description    object\n",
       "text           object\n",
       "dtype: object"
      ]
     },
     "execution_count": 165,
     "metadata": {},
     "output_type": "execute_result"
    }
   ],
   "source": [
    "df.dtypes"
   ]
  },
  {
   "cell_type": "code",
   "execution_count": 166,
   "id": "0480a327",
   "metadata": {},
   "outputs": [
    {
     "data": {
      "text/html": [
       "<div>\n",
       "<style scoped>\n",
       "    .dataframe tbody tr th:only-of-type {\n",
       "        vertical-align: middle;\n",
       "    }\n",
       "\n",
       "    .dataframe tbody tr th {\n",
       "        vertical-align: top;\n",
       "    }\n",
       "\n",
       "    .dataframe thead th {\n",
       "        text-align: right;\n",
       "    }\n",
       "</style>\n",
       "<table border=\"1\" class=\"dataframe\">\n",
       "  <thead>\n",
       "    <tr style=\"text-align: right;\">\n",
       "      <th></th>\n",
       "      <th>gender</th>\n",
       "      <th>description</th>\n",
       "      <th>text</th>\n",
       "    </tr>\n",
       "  </thead>\n",
       "  <tbody>\n",
       "    <tr>\n",
       "      <th>6</th>\n",
       "      <td>brand</td>\n",
       "      <td>A global marketplace for images, videos and mu...</td>\n",
       "      <td>@BpackEngineer Thank you for your patience whi...</td>\n",
       "    </tr>\n",
       "    <tr>\n",
       "      <th>10</th>\n",
       "      <td>brand</td>\n",
       "      <td>Clean food that tastes great while providing e...</td>\n",
       "      <td>how are you taking care of yourself? https://t...</td>\n",
       "    </tr>\n",
       "    <tr>\n",
       "      <th>11</th>\n",
       "      <td>brand</td>\n",
       "      <td>highly extraordinary auctions</td>\n",
       "      <td>MTG Deals 1x Rank-Up-Magic - The Seventh One -...</td>\n",
       "    </tr>\n",
       "    <tr>\n",
       "      <th>13</th>\n",
       "      <td>brand</td>\n",
       "      <td>Come join the fastest blog network online toda...</td>\n",
       "      <td>https://t.co/z4sbWUugd8 What the Nation Will B...</td>\n",
       "    </tr>\n",
       "    <tr>\n",
       "      <th>26</th>\n",
       "      <td>brand</td>\n",
       "      <td>If you have any questions about Islam and woul...</td>\n",
       "      <td>How beautiful is the religion which teaches yo...</td>\n",
       "    </tr>\n",
       "    <tr>\n",
       "      <th>...</th>\n",
       "      <td>...</td>\n",
       "      <td>...</td>\n",
       "      <td>...</td>\n",
       "    </tr>\n",
       "    <tr>\n",
       "      <th>20030</th>\n",
       "      <td>brand</td>\n",
       "      <td>Crowdsourcing #Innovation! The FINND connects ...</td>\n",
       "      <td>The White House Is Ready For Tech To Step Up I...</td>\n",
       "    </tr>\n",
       "    <tr>\n",
       "      <th>20034</th>\n",
       "      <td>brand</td>\n",
       "      <td>Where Raleigh's dynamic leaders come to connec...</td>\n",
       "      <td>View the Community Halloween Spooktacular @Cit...</td>\n",
       "    </tr>\n",
       "    <tr>\n",
       "      <th>20038</th>\n",
       "      <td>brand</td>\n",
       "      <td>The FUN site for Animal Lovers - Get the lates...</td>\n",
       "      <td>Jon Stewart's Animal Sanctuary And Educational...</td>\n",
       "    </tr>\n",
       "    <tr>\n",
       "      <th>20041</th>\n",
       "      <td>brand</td>\n",
       "      <td>When families go through divorce, it's helpful...</td>\n",
       "      <td>For Stan and Lisa... has #Coffee Cup at https:...</td>\n",
       "    </tr>\n",
       "    <tr>\n",
       "      <th>20042</th>\n",
       "      <td>brand</td>\n",
       "      <td>Reviews of delectable #food, picturesque #trav...</td>\n",
       "      <td>Best Bloody Mary Brunch at the #NYCWFF @nyceff...</td>\n",
       "    </tr>\n",
       "  </tbody>\n",
       "</table>\n",
       "<p>4328 rows × 3 columns</p>\n",
       "</div>"
      ],
      "text/plain": [
       "      gender                                        description  \\\n",
       "6      brand  A global marketplace for images, videos and mu...   \n",
       "10     brand  Clean food that tastes great while providing e...   \n",
       "11     brand                      highly extraordinary auctions   \n",
       "13     brand  Come join the fastest blog network online toda...   \n",
       "26     brand  If you have any questions about Islam and woul...   \n",
       "...      ...                                                ...   \n",
       "20030  brand  Crowdsourcing #Innovation! The FINND connects ...   \n",
       "20034  brand  Where Raleigh's dynamic leaders come to connec...   \n",
       "20038  brand  The FUN site for Animal Lovers - Get the lates...   \n",
       "20041  brand  When families go through divorce, it's helpful...   \n",
       "20042  brand  Reviews of delectable #food, picturesque #trav...   \n",
       "\n",
       "                                                    text  \n",
       "6      @BpackEngineer Thank you for your patience whi...  \n",
       "10     how are you taking care of yourself? https://t...  \n",
       "11     MTG Deals 1x Rank-Up-Magic - The Seventh One -...  \n",
       "13     https://t.co/z4sbWUugd8 What the Nation Will B...  \n",
       "26     How beautiful is the religion which teaches yo...  \n",
       "...                                                  ...  \n",
       "20030  The White House Is Ready For Tech To Step Up I...  \n",
       "20034  View the Community Halloween Spooktacular @Cit...  \n",
       "20038  Jon Stewart's Animal Sanctuary And Educational...  \n",
       "20041  For Stan and Lisa... has #Coffee Cup at https:...  \n",
       "20042  Best Bloody Mary Brunch at the #NYCWFF @nyceff...  \n",
       "\n",
       "[4328 rows x 3 columns]"
      ]
     },
     "execution_count": 166,
     "metadata": {},
     "output_type": "execute_result"
    }
   ],
   "source": [
    "df[df['gender'] == 'brand']"
   ]
  },
  {
   "cell_type": "markdown",
   "id": "a4a7c24a",
   "metadata": {},
   "source": [
    "# Choosing only Male and Female from the Gender Column"
   ]
  },
  {
   "cell_type": "code",
   "execution_count": 167,
   "id": "8e906a96",
   "metadata": {},
   "outputs": [],
   "source": [
    "df['gender'] = df[(df['gender'] == 'female') | (df['gender'] == 'male')]"
   ]
  },
  {
   "cell_type": "code",
   "execution_count": 168,
   "id": "f2929034",
   "metadata": {},
   "outputs": [
    {
     "data": {
      "text/plain": [
       "female    5725\n",
       "male      5469\n",
       "Name: gender, dtype: int64"
      ]
     },
     "execution_count": 168,
     "metadata": {},
     "output_type": "execute_result"
    }
   ],
   "source": [
    "df['gender'].value_counts()\n"
   ]
  },
  {
   "cell_type": "markdown",
   "id": "c8a703c2",
   "metadata": {},
   "source": [
    "# Label Encoding, Representing Male with 1  and Female with 0"
   ]
  },
  {
   "cell_type": "code",
   "execution_count": 169,
   "id": "167956ba",
   "metadata": {},
   "outputs": [
    {
     "data": {
      "text/plain": [
       "0.0    5725\n",
       "1.0    5469\n",
       "Name: gender, dtype: int64"
      ]
     },
     "execution_count": 169,
     "metadata": {},
     "output_type": "execute_result"
    }
   ],
   "source": [
    "for gen in df['gender']:\n",
    "\n",
    "  if gen=='male':\n",
    "\n",
    "     df['gender'].replace({'male':1},inplace=True)\n",
    "\n",
    "  elif gen=='female':\n",
    "\n",
    "     df['gender'].replace({'female':0},inplace=True)\n",
    "\n",
    "df['gender'].value_counts()\n"
   ]
  },
  {
   "cell_type": "markdown",
   "id": "22885035",
   "metadata": {},
   "source": [
    "# Cleaning the Description Column removing punctuation marks "
   ]
  },
  {
   "cell_type": "code",
   "execution_count": 170,
   "id": "fc6308b8",
   "metadata": {},
   "outputs": [
    {
     "data": {
      "text/html": [
       "<div>\n",
       "<style scoped>\n",
       "    .dataframe tbody tr th:only-of-type {\n",
       "        vertical-align: middle;\n",
       "    }\n",
       "\n",
       "    .dataframe tbody tr th {\n",
       "        vertical-align: top;\n",
       "    }\n",
       "\n",
       "    .dataframe thead th {\n",
       "        text-align: right;\n",
       "    }\n",
       "</style>\n",
       "<table border=\"1\" class=\"dataframe\">\n",
       "  <thead>\n",
       "    <tr style=\"text-align: right;\">\n",
       "      <th></th>\n",
       "      <th>gender</th>\n",
       "      <th>description</th>\n",
       "      <th>text</th>\n",
       "      <th>descrip_Cleaned</th>\n",
       "    </tr>\n",
       "  </thead>\n",
       "  <tbody>\n",
       "    <tr>\n",
       "      <th>0</th>\n",
       "      <td>1.0</td>\n",
       "      <td>i sing my own rhythm.</td>\n",
       "      <td>Robbie E Responds To Critics After Win Against...</td>\n",
       "      <td>i sing my own rhythm.</td>\n",
       "    </tr>\n",
       "    <tr>\n",
       "      <th>1</th>\n",
       "      <td>1.0</td>\n",
       "      <td>I'm the author of novels filled with family dr...</td>\n",
       "      <td>���It felt like they were my friends and I was...</td>\n",
       "      <td>i'm the author of novels filled with family dr...</td>\n",
       "    </tr>\n",
       "    <tr>\n",
       "      <th>2</th>\n",
       "      <td>1.0</td>\n",
       "      <td>louis whining and squealing and all</td>\n",
       "      <td>i absolutely adore when louis starts the songs...</td>\n",
       "      <td>louis whining and squealing and all</td>\n",
       "    </tr>\n",
       "    <tr>\n",
       "      <th>3</th>\n",
       "      <td>1.0</td>\n",
       "      <td>Mobile guy.  49ers, Shazam, Google, Kleiner Pe...</td>\n",
       "      <td>Hi @JordanSpieth - Looking at the url - do you...</td>\n",
       "      <td>mobile guy.  49ers, shazam, google, kleiner pe...</td>\n",
       "    </tr>\n",
       "    <tr>\n",
       "      <th>4</th>\n",
       "      <td>0.0</td>\n",
       "      <td>Ricky Wilson The Best FRONTMAN/Kaiser Chiefs T...</td>\n",
       "      <td>Watching Neighbours on Sky+ catching up with t...</td>\n",
       "      <td>ricky wilson the best frontman/kaiser chiefs t...</td>\n",
       "    </tr>\n",
       "  </tbody>\n",
       "</table>\n",
       "</div>"
      ],
      "text/plain": [
       "   gender                                        description  \\\n",
       "0     1.0                              i sing my own rhythm.   \n",
       "1     1.0  I'm the author of novels filled with family dr...   \n",
       "2     1.0                louis whining and squealing and all   \n",
       "3     1.0  Mobile guy.  49ers, Shazam, Google, Kleiner Pe...   \n",
       "4     0.0  Ricky Wilson The Best FRONTMAN/Kaiser Chiefs T...   \n",
       "\n",
       "                                                text  \\\n",
       "0  Robbie E Responds To Critics After Win Against...   \n",
       "1  ���It felt like they were my friends and I was...   \n",
       "2  i absolutely adore when louis starts the songs...   \n",
       "3  Hi @JordanSpieth - Looking at the url - do you...   \n",
       "4  Watching Neighbours on Sky+ catching up with t...   \n",
       "\n",
       "                                     descrip_Cleaned  \n",
       "0                              i sing my own rhythm.  \n",
       "1  i'm the author of novels filled with family dr...  \n",
       "2                louis whining and squealing and all  \n",
       "3  mobile guy.  49ers, shazam, google, kleiner pe...  \n",
       "4  ricky wilson the best frontman/kaiser chiefs t...  "
      ]
     },
     "execution_count": 170,
     "metadata": {},
     "output_type": "execute_result"
    }
   ],
   "source": [
    "def clean(review):\n",
    "\n",
    "    descrip = re.sub('[^a-zA-Z]', ' ', review)\n",
    "\n",
    "    review = review.lower()\n",
    "\n",
    "    return review\n",
    "\n",
    "df['descrip_Cleaned'] = pd.DataFrame(df['description'].apply(lambda x: clean(x)))\n",
    "\n",
    "df.head()\n"
   ]
  },
  {
   "cell_type": "raw",
   "id": "749859c6",
   "metadata": {},
   "source": [
    "Cleaning the data which includes punctuation removal,number removal, and different signs like ‘@’,'()’,’#’, and URL with ‘ ‘."
   ]
  },
  {
   "cell_type": "code",
   "execution_count": 171,
   "id": "1bd4f512",
   "metadata": {},
   "outputs": [],
   "source": [
    "df['descrip_Cleaned'].replace('[@+]', \"\", regex=True,inplace=True)\n",
    "\n",
    "df['descrip_Cleaned'].replace('[()]', \"\", regex=True,inplace=True)\n",
    "\n",
    "\n",
    "df['descrip_Cleaned'].replace('[#+]', \"\", regex=True, inplace = True)\n",
    "\n",
    "\n",
    "#url_regex = \"(https?://)(s)*(www.)?(s)*((w|s)+.)*([w-s]+/)*([w-]+)((?)?[ws]*=s*[w%&]*)*\"\n",
    "#df['descrip_Cleaned'] = df['descrip_Cleaned'].replace(url_regex, \"\", regex=True)"
   ]
  },
  {
   "cell_type": "code",
   "execution_count": 172,
   "id": "6f793d40",
   "metadata": {},
   "outputs": [],
   "source": [
    "#url_regex = \"(https?://)(s)*(www.)?(s)*((w|s)+.)*([w-s]+/)*([w-]+)((?)?[ws]*=s*[w%&]*)*\"\n",
    "#df['descrip_Cleaned'] = df['descrip_Cleaned'].replace(url_regex, \"\", regex=True)"
   ]
  },
  {
   "cell_type": "code",
   "execution_count": 173,
   "id": "684215e3",
   "metadata": {},
   "outputs": [],
   "source": [
    "df['descrip_Cleaned'] = df['descrip_Cleaned'].replace(to_replace=r'^https?:\\/\\/.*[\\r\\n]*',value='',regex=True)"
   ]
  },
  {
   "cell_type": "code",
   "execution_count": 174,
   "id": "9cfe459b",
   "metadata": {},
   "outputs": [],
   "source": [
    "df['descrip_Cleaned'] = df['descrip_Cleaned'].apply(lambda x: re.split('https:\\/\\/.*', str(x))[0])\n"
   ]
  },
  {
   "cell_type": "code",
   "execution_count": 175,
   "id": "da4ee388",
   "metadata": {},
   "outputs": [
    {
     "data": {
      "text/html": [
       "<div>\n",
       "<style scoped>\n",
       "    .dataframe tbody tr th:only-of-type {\n",
       "        vertical-align: middle;\n",
       "    }\n",
       "\n",
       "    .dataframe tbody tr th {\n",
       "        vertical-align: top;\n",
       "    }\n",
       "\n",
       "    .dataframe thead th {\n",
       "        text-align: right;\n",
       "    }\n",
       "</style>\n",
       "<table border=\"1\" class=\"dataframe\">\n",
       "  <thead>\n",
       "    <tr style=\"text-align: right;\">\n",
       "      <th></th>\n",
       "      <th>gender</th>\n",
       "      <th>description</th>\n",
       "      <th>text</th>\n",
       "      <th>descrip_Cleaned</th>\n",
       "    </tr>\n",
       "  </thead>\n",
       "  <tbody>\n",
       "    <tr>\n",
       "      <th>0</th>\n",
       "      <td>1.0</td>\n",
       "      <td>i sing my own rhythm.</td>\n",
       "      <td>Robbie E Responds To Critics After Win Against...</td>\n",
       "      <td>i sing my own rhythm.</td>\n",
       "    </tr>\n",
       "    <tr>\n",
       "      <th>1</th>\n",
       "      <td>1.0</td>\n",
       "      <td>I'm the author of novels filled with family dr...</td>\n",
       "      <td>���It felt like they were my friends and I was...</td>\n",
       "      <td>i'm the author of novels filled with family dr...</td>\n",
       "    </tr>\n",
       "    <tr>\n",
       "      <th>2</th>\n",
       "      <td>1.0</td>\n",
       "      <td>louis whining and squealing and all</td>\n",
       "      <td>i absolutely adore when louis starts the songs...</td>\n",
       "      <td>louis whining and squealing and all</td>\n",
       "    </tr>\n",
       "    <tr>\n",
       "      <th>3</th>\n",
       "      <td>1.0</td>\n",
       "      <td>Mobile guy.  49ers, Shazam, Google, Kleiner Pe...</td>\n",
       "      <td>Hi @JordanSpieth - Looking at the url - do you...</td>\n",
       "      <td>mobile guy.  49ers, shazam, google, kleiner pe...</td>\n",
       "    </tr>\n",
       "    <tr>\n",
       "      <th>4</th>\n",
       "      <td>0.0</td>\n",
       "      <td>Ricky Wilson The Best FRONTMAN/Kaiser Chiefs T...</td>\n",
       "      <td>Watching Neighbours on Sky+ catching up with t...</td>\n",
       "      <td>ricky wilson the best frontman/kaiser chiefs t...</td>\n",
       "    </tr>\n",
       "    <tr>\n",
       "      <th>...</th>\n",
       "      <td>...</td>\n",
       "      <td>...</td>\n",
       "      <td>...</td>\n",
       "      <td>...</td>\n",
       "    </tr>\n",
       "    <tr>\n",
       "      <th>20045</th>\n",
       "      <td>0.0</td>\n",
       "      <td>(rp)</td>\n",
       "      <td>@lookupondeath ...Fine, and I'll drink tea too...</td>\n",
       "      <td>rp</td>\n",
       "    </tr>\n",
       "    <tr>\n",
       "      <th>20046</th>\n",
       "      <td>1.0</td>\n",
       "      <td>Whatever you like, it's not a problem at all. ...</td>\n",
       "      <td>Greg Hardy you a good player and all but don't...</td>\n",
       "      <td>whatever you like, it's not a problem at all. ...</td>\n",
       "    </tr>\n",
       "    <tr>\n",
       "      <th>20047</th>\n",
       "      <td>1.0</td>\n",
       "      <td>#TeamBarcelona ..You look lost so you should f...</td>\n",
       "      <td>You can miss people and still never want to se...</td>\n",
       "      <td>teambarcelona ..you look lost so you should fo...</td>\n",
       "    </tr>\n",
       "    <tr>\n",
       "      <th>20048</th>\n",
       "      <td>0.0</td>\n",
       "      <td>Anti-statist; I homeschool my kids. Aspiring t...</td>\n",
       "      <td>@bitemyapp i had noticed your tendency to pee ...</td>\n",
       "      <td>anti-statist; i homeschool my kids. aspiring t...</td>\n",
       "    </tr>\n",
       "    <tr>\n",
       "      <th>20049</th>\n",
       "      <td>0.0</td>\n",
       "      <td>Teamwork makes the dream work.</td>\n",
       "      <td>I think for my APUSH creative project I'm goin...</td>\n",
       "      <td>teamwork makes the dream work.</td>\n",
       "    </tr>\n",
       "  </tbody>\n",
       "</table>\n",
       "<p>16224 rows × 4 columns</p>\n",
       "</div>"
      ],
      "text/plain": [
       "       gender                                        description  \\\n",
       "0         1.0                              i sing my own rhythm.   \n",
       "1         1.0  I'm the author of novels filled with family dr...   \n",
       "2         1.0                louis whining and squealing and all   \n",
       "3         1.0  Mobile guy.  49ers, Shazam, Google, Kleiner Pe...   \n",
       "4         0.0  Ricky Wilson The Best FRONTMAN/Kaiser Chiefs T...   \n",
       "...       ...                                                ...   \n",
       "20045     0.0                                               (rp)   \n",
       "20046     1.0  Whatever you like, it's not a problem at all. ...   \n",
       "20047     1.0  #TeamBarcelona ..You look lost so you should f...   \n",
       "20048     0.0  Anti-statist; I homeschool my kids. Aspiring t...   \n",
       "20049     0.0                     Teamwork makes the dream work.   \n",
       "\n",
       "                                                    text  \\\n",
       "0      Robbie E Responds To Critics After Win Against...   \n",
       "1      ���It felt like they were my friends and I was...   \n",
       "2      i absolutely adore when louis starts the songs...   \n",
       "3      Hi @JordanSpieth - Looking at the url - do you...   \n",
       "4      Watching Neighbours on Sky+ catching up with t...   \n",
       "...                                                  ...   \n",
       "20045  @lookupondeath ...Fine, and I'll drink tea too...   \n",
       "20046  Greg Hardy you a good player and all but don't...   \n",
       "20047  You can miss people and still never want to se...   \n",
       "20048  @bitemyapp i had noticed your tendency to pee ...   \n",
       "20049  I think for my APUSH creative project I'm goin...   \n",
       "\n",
       "                                         descrip_Cleaned  \n",
       "0                                  i sing my own rhythm.  \n",
       "1      i'm the author of novels filled with family dr...  \n",
       "2                    louis whining and squealing and all  \n",
       "3      mobile guy.  49ers, shazam, google, kleiner pe...  \n",
       "4      ricky wilson the best frontman/kaiser chiefs t...  \n",
       "...                                                  ...  \n",
       "20045                                                 rp  \n",
       "20046  whatever you like, it's not a problem at all. ...  \n",
       "20047  teambarcelona ..you look lost so you should fo...  \n",
       "20048  anti-statist; i homeschool my kids. aspiring t...  \n",
       "20049                     teamwork makes the dream work.  \n",
       "\n",
       "[16224 rows x 4 columns]"
      ]
     },
     "execution_count": 175,
     "metadata": {},
     "output_type": "execute_result"
    }
   ],
   "source": [
    "df"
   ]
  },
  {
   "cell_type": "markdown",
   "id": "69df78e7",
   "metadata": {},
   "source": [
    "# Text Cleaning of the TEXT COLUMN"
   ]
  },
  {
   "cell_type": "code",
   "execution_count": 176,
   "id": "41d43c40",
   "metadata": {
    "scrolled": true
   },
   "outputs": [],
   "source": [
    "def clean1(review1):\n",
    "\n",
    "    descrip = re.sub('[^a-zA-Z]', ' ', review1)\n",
    "\n",
    "    review1 = review1.lower()\n",
    "\n",
    "    return review1\n"
   ]
  },
  {
   "cell_type": "code",
   "execution_count": 177,
   "id": "0d933611",
   "metadata": {},
   "outputs": [
    {
     "data": {
      "text/html": [
       "<div>\n",
       "<style scoped>\n",
       "    .dataframe tbody tr th:only-of-type {\n",
       "        vertical-align: middle;\n",
       "    }\n",
       "\n",
       "    .dataframe tbody tr th {\n",
       "        vertical-align: top;\n",
       "    }\n",
       "\n",
       "    .dataframe thead th {\n",
       "        text-align: right;\n",
       "    }\n",
       "</style>\n",
       "<table border=\"1\" class=\"dataframe\">\n",
       "  <thead>\n",
       "    <tr style=\"text-align: right;\">\n",
       "      <th></th>\n",
       "      <th>gender</th>\n",
       "      <th>description</th>\n",
       "      <th>text</th>\n",
       "      <th>descrip_Cleaned</th>\n",
       "      <th>text_Cleaned</th>\n",
       "    </tr>\n",
       "  </thead>\n",
       "  <tbody>\n",
       "    <tr>\n",
       "      <th>0</th>\n",
       "      <td>1.0</td>\n",
       "      <td>i sing my own rhythm.</td>\n",
       "      <td>Robbie E Responds To Critics After Win Against...</td>\n",
       "      <td>i sing my own rhythm.</td>\n",
       "      <td>robbie e responds to critics after win against...</td>\n",
       "    </tr>\n",
       "    <tr>\n",
       "      <th>1</th>\n",
       "      <td>1.0</td>\n",
       "      <td>I'm the author of novels filled with family dr...</td>\n",
       "      <td>���It felt like they were my friends and I was...</td>\n",
       "      <td>i'm the author of novels filled with family dr...</td>\n",
       "      <td>���it felt like they were my friends and i was...</td>\n",
       "    </tr>\n",
       "    <tr>\n",
       "      <th>2</th>\n",
       "      <td>1.0</td>\n",
       "      <td>louis whining and squealing and all</td>\n",
       "      <td>i absolutely adore when louis starts the songs...</td>\n",
       "      <td>louis whining and squealing and all</td>\n",
       "      <td>i absolutely adore when louis starts the songs...</td>\n",
       "    </tr>\n",
       "    <tr>\n",
       "      <th>3</th>\n",
       "      <td>1.0</td>\n",
       "      <td>Mobile guy.  49ers, Shazam, Google, Kleiner Pe...</td>\n",
       "      <td>Hi @JordanSpieth - Looking at the url - do you...</td>\n",
       "      <td>mobile guy.  49ers, shazam, google, kleiner pe...</td>\n",
       "      <td>hi @jordanspieth - looking at the url - do you...</td>\n",
       "    </tr>\n",
       "    <tr>\n",
       "      <th>4</th>\n",
       "      <td>0.0</td>\n",
       "      <td>Ricky Wilson The Best FRONTMAN/Kaiser Chiefs T...</td>\n",
       "      <td>Watching Neighbours on Sky+ catching up with t...</td>\n",
       "      <td>ricky wilson the best frontman/kaiser chiefs t...</td>\n",
       "      <td>watching neighbours on sky+ catching up with t...</td>\n",
       "    </tr>\n",
       "  </tbody>\n",
       "</table>\n",
       "</div>"
      ],
      "text/plain": [
       "   gender                                        description  \\\n",
       "0     1.0                              i sing my own rhythm.   \n",
       "1     1.0  I'm the author of novels filled with family dr...   \n",
       "2     1.0                louis whining and squealing and all   \n",
       "3     1.0  Mobile guy.  49ers, Shazam, Google, Kleiner Pe...   \n",
       "4     0.0  Ricky Wilson The Best FRONTMAN/Kaiser Chiefs T...   \n",
       "\n",
       "                                                text  \\\n",
       "0  Robbie E Responds To Critics After Win Against...   \n",
       "1  ���It felt like they were my friends and I was...   \n",
       "2  i absolutely adore when louis starts the songs...   \n",
       "3  Hi @JordanSpieth - Looking at the url - do you...   \n",
       "4  Watching Neighbours on Sky+ catching up with t...   \n",
       "\n",
       "                                     descrip_Cleaned  \\\n",
       "0                              i sing my own rhythm.   \n",
       "1  i'm the author of novels filled with family dr...   \n",
       "2                louis whining and squealing and all   \n",
       "3  mobile guy.  49ers, shazam, google, kleiner pe...   \n",
       "4  ricky wilson the best frontman/kaiser chiefs t...   \n",
       "\n",
       "                                        text_Cleaned  \n",
       "0  robbie e responds to critics after win against...  \n",
       "1  ���it felt like they were my friends and i was...  \n",
       "2  i absolutely adore when louis starts the songs...  \n",
       "3  hi @jordanspieth - looking at the url - do you...  \n",
       "4  watching neighbours on sky+ catching up with t...  "
      ]
     },
     "execution_count": 177,
     "metadata": {},
     "output_type": "execute_result"
    }
   ],
   "source": [
    "df['text_Cleaned'] = pd.DataFrame(df['text'].apply(lambda y: clean1(y)))\n",
    "\n",
    "df.head()"
   ]
  },
  {
   "cell_type": "code",
   "execution_count": 178,
   "id": "d43338af",
   "metadata": {},
   "outputs": [],
   "source": [
    "df['text_Cleaned'].replace('[@+]', \"\", regex=True,inplace=True)\n",
    "\n",
    "df['text_Cleaned'].replace('[()]', \"\", regex=True,inplace=True)\n",
    "\n",
    "\n",
    "df['text_Cleaned']= df['text_Cleaned'].replace('[#+�۝]', \"\", regex=True)"
   ]
  },
  {
   "cell_type": "code",
   "execution_count": 179,
   "id": "245f7861",
   "metadata": {},
   "outputs": [],
   "source": [
    "df['text_Cleaned'] = df['text_Cleaned'].replace(to_replace=r'^https?:\\/\\/.*[\\r\\n]*',value='',regex=True)"
   ]
  },
  {
   "cell_type": "code",
   "execution_count": 180,
   "id": "f74f7e9f",
   "metadata": {},
   "outputs": [],
   "source": [
    "df['text_Cleaned'] = df['text_Cleaned'].apply(lambda x: re.split('https:\\/\\/.*', str(x))[0])\n"
   ]
  },
  {
   "cell_type": "code",
   "execution_count": 181,
   "id": "84c29155",
   "metadata": {},
   "outputs": [],
   "source": [
    "url_regex = \"(https?://)\" \n",
    "df['text_Cleaned'] = df['text_Cleaned'].replace(url_regex, \"\", regex=True)"
   ]
  },
  {
   "cell_type": "code",
   "execution_count": 182,
   "id": "9003de60",
   "metadata": {},
   "outputs": [
    {
     "data": {
      "text/html": [
       "<div>\n",
       "<style scoped>\n",
       "    .dataframe tbody tr th:only-of-type {\n",
       "        vertical-align: middle;\n",
       "    }\n",
       "\n",
       "    .dataframe tbody tr th {\n",
       "        vertical-align: top;\n",
       "    }\n",
       "\n",
       "    .dataframe thead th {\n",
       "        text-align: right;\n",
       "    }\n",
       "</style>\n",
       "<table border=\"1\" class=\"dataframe\">\n",
       "  <thead>\n",
       "    <tr style=\"text-align: right;\">\n",
       "      <th></th>\n",
       "      <th>gender</th>\n",
       "      <th>description</th>\n",
       "      <th>text</th>\n",
       "      <th>descrip_Cleaned</th>\n",
       "      <th>text_Cleaned</th>\n",
       "    </tr>\n",
       "  </thead>\n",
       "  <tbody>\n",
       "    <tr>\n",
       "      <th>0</th>\n",
       "      <td>1.0</td>\n",
       "      <td>i sing my own rhythm.</td>\n",
       "      <td>Robbie E Responds To Critics After Win Against...</td>\n",
       "      <td>i sing my own rhythm.</td>\n",
       "      <td>robbie e responds to critics after win against...</td>\n",
       "    </tr>\n",
       "    <tr>\n",
       "      <th>1</th>\n",
       "      <td>1.0</td>\n",
       "      <td>I'm the author of novels filled with family dr...</td>\n",
       "      <td>���It felt like they were my friends and I was...</td>\n",
       "      <td>i'm the author of novels filled with family dr...</td>\n",
       "      <td>it felt like they were my friends and i was li...</td>\n",
       "    </tr>\n",
       "    <tr>\n",
       "      <th>2</th>\n",
       "      <td>1.0</td>\n",
       "      <td>louis whining and squealing and all</td>\n",
       "      <td>i absolutely adore when louis starts the songs...</td>\n",
       "      <td>louis whining and squealing and all</td>\n",
       "      <td>i absolutely adore when louis starts the songs...</td>\n",
       "    </tr>\n",
       "    <tr>\n",
       "      <th>3</th>\n",
       "      <td>1.0</td>\n",
       "      <td>Mobile guy.  49ers, Shazam, Google, Kleiner Pe...</td>\n",
       "      <td>Hi @JordanSpieth - Looking at the url - do you...</td>\n",
       "      <td>mobile guy.  49ers, shazam, google, kleiner pe...</td>\n",
       "      <td>hi jordanspieth - looking at the url - do you ...</td>\n",
       "    </tr>\n",
       "    <tr>\n",
       "      <th>4</th>\n",
       "      <td>0.0</td>\n",
       "      <td>Ricky Wilson The Best FRONTMAN/Kaiser Chiefs T...</td>\n",
       "      <td>Watching Neighbours on Sky+ catching up with t...</td>\n",
       "      <td>ricky wilson the best frontman/kaiser chiefs t...</td>\n",
       "      <td>watching neighbours on sky catching up with th...</td>\n",
       "    </tr>\n",
       "    <tr>\n",
       "      <th>...</th>\n",
       "      <td>...</td>\n",
       "      <td>...</td>\n",
       "      <td>...</td>\n",
       "      <td>...</td>\n",
       "      <td>...</td>\n",
       "    </tr>\n",
       "    <tr>\n",
       "      <th>20045</th>\n",
       "      <td>0.0</td>\n",
       "      <td>(rp)</td>\n",
       "      <td>@lookupondeath ...Fine, and I'll drink tea too...</td>\n",
       "      <td>rp</td>\n",
       "      <td>lookupondeath ...fine, and i'll drink tea too....</td>\n",
       "    </tr>\n",
       "    <tr>\n",
       "      <th>20046</th>\n",
       "      <td>1.0</td>\n",
       "      <td>Whatever you like, it's not a problem at all. ...</td>\n",
       "      <td>Greg Hardy you a good player and all but don't...</td>\n",
       "      <td>whatever you like, it's not a problem at all. ...</td>\n",
       "      <td>greg hardy you a good player and all but don't...</td>\n",
       "    </tr>\n",
       "    <tr>\n",
       "      <th>20047</th>\n",
       "      <td>1.0</td>\n",
       "      <td>#TeamBarcelona ..You look lost so you should f...</td>\n",
       "      <td>You can miss people and still never want to se...</td>\n",
       "      <td>teambarcelona ..you look lost so you should fo...</td>\n",
       "      <td>you can miss people and still never want to se...</td>\n",
       "    </tr>\n",
       "    <tr>\n",
       "      <th>20048</th>\n",
       "      <td>0.0</td>\n",
       "      <td>Anti-statist; I homeschool my kids. Aspiring t...</td>\n",
       "      <td>@bitemyapp i had noticed your tendency to pee ...</td>\n",
       "      <td>anti-statist; i homeschool my kids. aspiring t...</td>\n",
       "      <td>bitemyapp i had noticed your tendency to pee o...</td>\n",
       "    </tr>\n",
       "    <tr>\n",
       "      <th>20049</th>\n",
       "      <td>0.0</td>\n",
       "      <td>Teamwork makes the dream work.</td>\n",
       "      <td>I think for my APUSH creative project I'm goin...</td>\n",
       "      <td>teamwork makes the dream work.</td>\n",
       "      <td>i think for my apush creative project i'm goin...</td>\n",
       "    </tr>\n",
       "  </tbody>\n",
       "</table>\n",
       "<p>16224 rows × 5 columns</p>\n",
       "</div>"
      ],
      "text/plain": [
       "       gender                                        description  \\\n",
       "0         1.0                              i sing my own rhythm.   \n",
       "1         1.0  I'm the author of novels filled with family dr...   \n",
       "2         1.0                louis whining and squealing and all   \n",
       "3         1.0  Mobile guy.  49ers, Shazam, Google, Kleiner Pe...   \n",
       "4         0.0  Ricky Wilson The Best FRONTMAN/Kaiser Chiefs T...   \n",
       "...       ...                                                ...   \n",
       "20045     0.0                                               (rp)   \n",
       "20046     1.0  Whatever you like, it's not a problem at all. ...   \n",
       "20047     1.0  #TeamBarcelona ..You look lost so you should f...   \n",
       "20048     0.0  Anti-statist; I homeschool my kids. Aspiring t...   \n",
       "20049     0.0                     Teamwork makes the dream work.   \n",
       "\n",
       "                                                    text  \\\n",
       "0      Robbie E Responds To Critics After Win Against...   \n",
       "1      ���It felt like they were my friends and I was...   \n",
       "2      i absolutely adore when louis starts the songs...   \n",
       "3      Hi @JordanSpieth - Looking at the url - do you...   \n",
       "4      Watching Neighbours on Sky+ catching up with t...   \n",
       "...                                                  ...   \n",
       "20045  @lookupondeath ...Fine, and I'll drink tea too...   \n",
       "20046  Greg Hardy you a good player and all but don't...   \n",
       "20047  You can miss people and still never want to se...   \n",
       "20048  @bitemyapp i had noticed your tendency to pee ...   \n",
       "20049  I think for my APUSH creative project I'm goin...   \n",
       "\n",
       "                                         descrip_Cleaned  \\\n",
       "0                                  i sing my own rhythm.   \n",
       "1      i'm the author of novels filled with family dr...   \n",
       "2                    louis whining and squealing and all   \n",
       "3      mobile guy.  49ers, shazam, google, kleiner pe...   \n",
       "4      ricky wilson the best frontman/kaiser chiefs t...   \n",
       "...                                                  ...   \n",
       "20045                                                 rp   \n",
       "20046  whatever you like, it's not a problem at all. ...   \n",
       "20047  teambarcelona ..you look lost so you should fo...   \n",
       "20048  anti-statist; i homeschool my kids. aspiring t...   \n",
       "20049                     teamwork makes the dream work.   \n",
       "\n",
       "                                            text_Cleaned  \n",
       "0      robbie e responds to critics after win against...  \n",
       "1      it felt like they were my friends and i was li...  \n",
       "2      i absolutely adore when louis starts the songs...  \n",
       "3      hi jordanspieth - looking at the url - do you ...  \n",
       "4      watching neighbours on sky catching up with th...  \n",
       "...                                                  ...  \n",
       "20045  lookupondeath ...fine, and i'll drink tea too....  \n",
       "20046  greg hardy you a good player and all but don't...  \n",
       "20047  you can miss people and still never want to se...  \n",
       "20048  bitemyapp i had noticed your tendency to pee o...  \n",
       "20049  i think for my apush creative project i'm goin...  \n",
       "\n",
       "[16224 rows x 5 columns]"
      ]
     },
     "execution_count": 182,
     "metadata": {},
     "output_type": "execute_result"
    }
   ],
   "source": [
    "df"
   ]
  },
  {
   "cell_type": "markdown",
   "id": "47b3c669",
   "metadata": {},
   "source": [
    "# REMOVING STOP WORDS"
   ]
  },
  {
   "cell_type": "code",
   "execution_count": 183,
   "id": "779b53cf",
   "metadata": {},
   "outputs": [],
   "source": [
    "from nltk.corpus import stopwords\n",
    "stop = stopwords.words('english')"
   ]
  },
  {
   "cell_type": "code",
   "execution_count": 184,
   "id": "323daf7c",
   "metadata": {},
   "outputs": [],
   "source": [
    "df['text_Cleaned'] = df['text_Cleaned'].apply(lambda x: ' '.join([word for word in x.split() if word not in (stop)]))\n"
   ]
  },
  {
   "cell_type": "code",
   "execution_count": 185,
   "id": "5d521023",
   "metadata": {},
   "outputs": [
    {
     "data": {
      "text/html": [
       "<div>\n",
       "<style scoped>\n",
       "    .dataframe tbody tr th:only-of-type {\n",
       "        vertical-align: middle;\n",
       "    }\n",
       "\n",
       "    .dataframe tbody tr th {\n",
       "        vertical-align: top;\n",
       "    }\n",
       "\n",
       "    .dataframe thead th {\n",
       "        text-align: right;\n",
       "    }\n",
       "</style>\n",
       "<table border=\"1\" class=\"dataframe\">\n",
       "  <thead>\n",
       "    <tr style=\"text-align: right;\">\n",
       "      <th></th>\n",
       "      <th>gender</th>\n",
       "      <th>description</th>\n",
       "      <th>text</th>\n",
       "      <th>descrip_Cleaned</th>\n",
       "      <th>text_Cleaned</th>\n",
       "    </tr>\n",
       "  </thead>\n",
       "  <tbody>\n",
       "    <tr>\n",
       "      <th>0</th>\n",
       "      <td>1.0</td>\n",
       "      <td>i sing my own rhythm.</td>\n",
       "      <td>Robbie E Responds To Critics After Win Against...</td>\n",
       "      <td>i sing my own rhythm.</td>\n",
       "      <td>robbie e responds critics win eddie edwards wo...</td>\n",
       "    </tr>\n",
       "    <tr>\n",
       "      <th>1</th>\n",
       "      <td>1.0</td>\n",
       "      <td>I'm the author of novels filled with family dr...</td>\n",
       "      <td>���It felt like they were my friends and I was...</td>\n",
       "      <td>i'm the author of novels filled with family dr...</td>\n",
       "      <td>felt like friends living story</td>\n",
       "    </tr>\n",
       "    <tr>\n",
       "      <th>2</th>\n",
       "      <td>1.0</td>\n",
       "      <td>louis whining and squealing and all</td>\n",
       "      <td>i absolutely adore when louis starts the songs...</td>\n",
       "      <td>louis whining and squealing and all</td>\n",
       "      <td>absolutely adore louis starts songs hits hard ...</td>\n",
       "    </tr>\n",
       "    <tr>\n",
       "      <th>3</th>\n",
       "      <td>1.0</td>\n",
       "      <td>Mobile guy.  49ers, Shazam, Google, Kleiner Pe...</td>\n",
       "      <td>Hi @JordanSpieth - Looking at the url - do you...</td>\n",
       "      <td>mobile guy.  49ers, shazam, google, kleiner pe...</td>\n",
       "      <td>hi jordanspieth - looking url - use ifttt?! ty...</td>\n",
       "    </tr>\n",
       "    <tr>\n",
       "      <th>4</th>\n",
       "      <td>0.0</td>\n",
       "      <td>Ricky Wilson The Best FRONTMAN/Kaiser Chiefs T...</td>\n",
       "      <td>Watching Neighbours on Sky+ catching up with t...</td>\n",
       "      <td>ricky wilson the best frontman/kaiser chiefs t...</td>\n",
       "      <td>watching neighbours sky catching neighbs!! xxx...</td>\n",
       "    </tr>\n",
       "    <tr>\n",
       "      <th>...</th>\n",
       "      <td>...</td>\n",
       "      <td>...</td>\n",
       "      <td>...</td>\n",
       "      <td>...</td>\n",
       "      <td>...</td>\n",
       "    </tr>\n",
       "    <tr>\n",
       "      <th>20045</th>\n",
       "      <td>0.0</td>\n",
       "      <td>(rp)</td>\n",
       "      <td>@lookupondeath ...Fine, and I'll drink tea too...</td>\n",
       "      <td>rp</td>\n",
       "      <td>lookupondeath ...fine, i'll drink tea too. lov...</td>\n",
       "    </tr>\n",
       "    <tr>\n",
       "      <th>20046</th>\n",
       "      <td>1.0</td>\n",
       "      <td>Whatever you like, it's not a problem at all. ...</td>\n",
       "      <td>Greg Hardy you a good player and all but don't...</td>\n",
       "      <td>whatever you like, it's not a problem at all. ...</td>\n",
       "      <td>greg hardy good player get face dez bryant. le...</td>\n",
       "    </tr>\n",
       "    <tr>\n",
       "      <th>20047</th>\n",
       "      <td>1.0</td>\n",
       "      <td>#TeamBarcelona ..You look lost so you should f...</td>\n",
       "      <td>You can miss people and still never want to se...</td>\n",
       "      <td>teambarcelona ..you look lost so you should fo...</td>\n",
       "      <td>miss people still never want see</td>\n",
       "    </tr>\n",
       "    <tr>\n",
       "      <th>20048</th>\n",
       "      <td>0.0</td>\n",
       "      <td>Anti-statist; I homeschool my kids. Aspiring t...</td>\n",
       "      <td>@bitemyapp i had noticed your tendency to pee ...</td>\n",
       "      <td>anti-statist; i homeschool my kids. aspiring t...</td>\n",
       "      <td>bitemyapp noticed tendency pee carpet, want sa...</td>\n",
       "    </tr>\n",
       "    <tr>\n",
       "      <th>20049</th>\n",
       "      <td>0.0</td>\n",
       "      <td>Teamwork makes the dream work.</td>\n",
       "      <td>I think for my APUSH creative project I'm goin...</td>\n",
       "      <td>teamwork makes the dream work.</td>\n",
       "      <td>think apush creative project i'm going bring b...</td>\n",
       "    </tr>\n",
       "  </tbody>\n",
       "</table>\n",
       "<p>16224 rows × 5 columns</p>\n",
       "</div>"
      ],
      "text/plain": [
       "       gender                                        description  \\\n",
       "0         1.0                              i sing my own rhythm.   \n",
       "1         1.0  I'm the author of novels filled with family dr...   \n",
       "2         1.0                louis whining and squealing and all   \n",
       "3         1.0  Mobile guy.  49ers, Shazam, Google, Kleiner Pe...   \n",
       "4         0.0  Ricky Wilson The Best FRONTMAN/Kaiser Chiefs T...   \n",
       "...       ...                                                ...   \n",
       "20045     0.0                                               (rp)   \n",
       "20046     1.0  Whatever you like, it's not a problem at all. ...   \n",
       "20047     1.0  #TeamBarcelona ..You look lost so you should f...   \n",
       "20048     0.0  Anti-statist; I homeschool my kids. Aspiring t...   \n",
       "20049     0.0                     Teamwork makes the dream work.   \n",
       "\n",
       "                                                    text  \\\n",
       "0      Robbie E Responds To Critics After Win Against...   \n",
       "1      ���It felt like they were my friends and I was...   \n",
       "2      i absolutely adore when louis starts the songs...   \n",
       "3      Hi @JordanSpieth - Looking at the url - do you...   \n",
       "4      Watching Neighbours on Sky+ catching up with t...   \n",
       "...                                                  ...   \n",
       "20045  @lookupondeath ...Fine, and I'll drink tea too...   \n",
       "20046  Greg Hardy you a good player and all but don't...   \n",
       "20047  You can miss people and still never want to se...   \n",
       "20048  @bitemyapp i had noticed your tendency to pee ...   \n",
       "20049  I think for my APUSH creative project I'm goin...   \n",
       "\n",
       "                                         descrip_Cleaned  \\\n",
       "0                                  i sing my own rhythm.   \n",
       "1      i'm the author of novels filled with family dr...   \n",
       "2                    louis whining and squealing and all   \n",
       "3      mobile guy.  49ers, shazam, google, kleiner pe...   \n",
       "4      ricky wilson the best frontman/kaiser chiefs t...   \n",
       "...                                                  ...   \n",
       "20045                                                 rp   \n",
       "20046  whatever you like, it's not a problem at all. ...   \n",
       "20047  teambarcelona ..you look lost so you should fo...   \n",
       "20048  anti-statist; i homeschool my kids. aspiring t...   \n",
       "20049                     teamwork makes the dream work.   \n",
       "\n",
       "                                            text_Cleaned  \n",
       "0      robbie e responds critics win eddie edwards wo...  \n",
       "1                         felt like friends living story  \n",
       "2      absolutely adore louis starts songs hits hard ...  \n",
       "3      hi jordanspieth - looking url - use ifttt?! ty...  \n",
       "4      watching neighbours sky catching neighbs!! xxx...  \n",
       "...                                                  ...  \n",
       "20045  lookupondeath ...fine, i'll drink tea too. lov...  \n",
       "20046  greg hardy good player get face dez bryant. le...  \n",
       "20047                   miss people still never want see  \n",
       "20048  bitemyapp noticed tendency pee carpet, want sa...  \n",
       "20049  think apush creative project i'm going bring b...  \n",
       "\n",
       "[16224 rows x 5 columns]"
      ]
     },
     "execution_count": 185,
     "metadata": {},
     "output_type": "execute_result"
    }
   ],
   "source": [
    "df"
   ]
  },
  {
   "cell_type": "code",
   "execution_count": 186,
   "id": "a8f3d395",
   "metadata": {},
   "outputs": [
    {
     "data": {
      "text/plain": [
       "gender             5030\n",
       "description           0\n",
       "text                  0\n",
       "descrip_Cleaned       0\n",
       "text_Cleaned          0\n",
       "dtype: int64"
      ]
     },
     "execution_count": 186,
     "metadata": {},
     "output_type": "execute_result"
    }
   ],
   "source": [
    "df.isnull().sum()"
   ]
  },
  {
   "cell_type": "code",
   "execution_count": 187,
   "id": "325c5f22",
   "metadata": {},
   "outputs": [],
   "source": [
    "df.dropna(axis = 0, inplace = True)"
   ]
  },
  {
   "cell_type": "code",
   "execution_count": 188,
   "id": "08589141",
   "metadata": {},
   "outputs": [
    {
     "data": {
      "text/plain": [
       "gender             0\n",
       "description        0\n",
       "text               0\n",
       "descrip_Cleaned    0\n",
       "text_Cleaned       0\n",
       "dtype: int64"
      ]
     },
     "execution_count": 188,
     "metadata": {},
     "output_type": "execute_result"
    }
   ],
   "source": [
    "df.isnull().sum()"
   ]
  },
  {
   "cell_type": "code",
   "execution_count": 189,
   "id": "439f811e",
   "metadata": {},
   "outputs": [],
   "source": [
    "df['descrip_Cleaned'] = df['descrip_Cleaned'].apply(lambda x: ' '.join([word for word in x.split() if word not in (stop)]))\n"
   ]
  },
  {
   "cell_type": "markdown",
   "id": "bccbb67b",
   "metadata": {},
   "source": [
    "# Dropping of redundant columns ‘description’ and ‘text’ columns were dropped"
   ]
  },
  {
   "cell_type": "code",
   "execution_count": 190,
   "id": "a23d14d2",
   "metadata": {},
   "outputs": [
    {
     "data": {
      "text/html": [
       "<div>\n",
       "<style scoped>\n",
       "    .dataframe tbody tr th:only-of-type {\n",
       "        vertical-align: middle;\n",
       "    }\n",
       "\n",
       "    .dataframe tbody tr th {\n",
       "        vertical-align: top;\n",
       "    }\n",
       "\n",
       "    .dataframe thead th {\n",
       "        text-align: right;\n",
       "    }\n",
       "</style>\n",
       "<table border=\"1\" class=\"dataframe\">\n",
       "  <thead>\n",
       "    <tr style=\"text-align: right;\">\n",
       "      <th></th>\n",
       "      <th>gender</th>\n",
       "      <th>descrip_Cleaned</th>\n",
       "      <th>text_Cleaned</th>\n",
       "    </tr>\n",
       "  </thead>\n",
       "  <tbody>\n",
       "    <tr>\n",
       "      <th>0</th>\n",
       "      <td>1.0</td>\n",
       "      <td>sing rhythm.</td>\n",
       "      <td>robbie e responds critics win eddie edwards wo...</td>\n",
       "    </tr>\n",
       "    <tr>\n",
       "      <th>1</th>\n",
       "      <td>1.0</td>\n",
       "      <td>i'm author novels filled family drama romance.</td>\n",
       "      <td>felt like friends living story</td>\n",
       "    </tr>\n",
       "    <tr>\n",
       "      <th>2</th>\n",
       "      <td>1.0</td>\n",
       "      <td>louis whining squealing</td>\n",
       "      <td>absolutely adore louis starts songs hits hard ...</td>\n",
       "    </tr>\n",
       "    <tr>\n",
       "      <th>3</th>\n",
       "      <td>1.0</td>\n",
       "      <td>mobile guy. 49ers, shazam, google, kleiner per...</td>\n",
       "      <td>hi jordanspieth - looking url - use ifttt?! ty...</td>\n",
       "    </tr>\n",
       "    <tr>\n",
       "      <th>4</th>\n",
       "      <td>0.0</td>\n",
       "      <td>ricky wilson best frontman/kaiser chiefs best ...</td>\n",
       "      <td>watching neighbours sky catching neighbs!! xxx...</td>\n",
       "    </tr>\n",
       "  </tbody>\n",
       "</table>\n",
       "</div>"
      ],
      "text/plain": [
       "   gender                                    descrip_Cleaned  \\\n",
       "0     1.0                                       sing rhythm.   \n",
       "1     1.0     i'm author novels filled family drama romance.   \n",
       "2     1.0                            louis whining squealing   \n",
       "3     1.0  mobile guy. 49ers, shazam, google, kleiner per...   \n",
       "4     0.0  ricky wilson best frontman/kaiser chiefs best ...   \n",
       "\n",
       "                                        text_Cleaned  \n",
       "0  robbie e responds critics win eddie edwards wo...  \n",
       "1                     felt like friends living story  \n",
       "2  absolutely adore louis starts songs hits hard ...  \n",
       "3  hi jordanspieth - looking url - use ifttt?! ty...  \n",
       "4  watching neighbours sky catching neighbs!! xxx...  "
      ]
     },
     "execution_count": 190,
     "metadata": {},
     "output_type": "execute_result"
    }
   ],
   "source": [
    "df.drop(['description','text'],axis=1,inplace=True)\n",
    "df.head()"
   ]
  },
  {
   "cell_type": "code",
   "execution_count": 191,
   "id": "25e005f8",
   "metadata": {},
   "outputs": [
    {
     "data": {
      "text/plain": [
       "gender             0\n",
       "descrip_Cleaned    0\n",
       "text_Cleaned       0\n",
       "dtype: int64"
      ]
     },
     "execution_count": 191,
     "metadata": {},
     "output_type": "execute_result"
    }
   ],
   "source": [
    "df.isnull().sum()"
   ]
  },
  {
   "cell_type": "markdown",
   "id": "083a0d68",
   "metadata": {},
   "source": [
    "# Vectorization of texts in ‘descrip_Cleaned’ and ‘text_Cleaned’ columns."
   ]
  },
  {
   "cell_type": "code",
   "execution_count": 192,
   "id": "2f033773",
   "metadata": {},
   "outputs": [],
   "source": [
    "x= df['text_Cleaned']\n"
   ]
  },
  {
   "cell_type": "code",
   "execution_count": 193,
   "id": "5d6ef9dd",
   "metadata": {},
   "outputs": [],
   "source": [
    "y = df['gender']\n"
   ]
  },
  {
   "cell_type": "code",
   "execution_count": 201,
   "id": "6dfe2095",
   "metadata": {},
   "outputs": [],
   "source": [
    "cv = CountVectorizer(max_features = 1000)\n",
    "x = cv.fit_transform(df['descrip_Cleaned']).toarray()\n",
    "x1=cv.fit_transform(df['text_Cleaned']).toarray()\n"
   ]
  },
  {
   "cell_type": "code",
   "execution_count": 202,
   "id": "d66f7356",
   "metadata": {},
   "outputs": [],
   "source": [
    "A=pd.DataFrame(x)\n",
    "\n",
    "B=pd.DataFrame(x1)"
   ]
  },
  {
   "cell_type": "code",
   "execution_count": 209,
   "id": "c335feab",
   "metadata": {},
   "outputs": [
    {
     "data": {
      "text/plain": [
       "(11194, 1000)"
      ]
     },
     "execution_count": 209,
     "metadata": {},
     "output_type": "execute_result"
    }
   ],
   "source": [
    "A.shape"
   ]
  },
  {
   "cell_type": "code",
   "execution_count": 210,
   "id": "ec3662a1",
   "metadata": {},
   "outputs": [
    {
     "data": {
      "text/plain": [
       "(11194, 1000)"
      ]
     },
     "execution_count": 210,
     "metadata": {},
     "output_type": "execute_result"
    }
   ],
   "source": [
    "B.shape"
   ]
  },
  {
   "cell_type": "code",
   "execution_count": 203,
   "id": "de8d6d45",
   "metadata": {},
   "outputs": [
    {
     "data": {
      "text/plain": [
       "(11194, 2000)"
      ]
     },
     "execution_count": 203,
     "metadata": {},
     "output_type": "execute_result"
    }
   ],
   "source": [
    "X=pd.concat([B,A],join='outer',axis=1)\n",
    "X.shape"
   ]
  },
  {
   "cell_type": "code",
   "execution_count": 204,
   "id": "c7bd7389",
   "metadata": {},
   "outputs": [],
   "source": [
    "x = np.array(X)"
   ]
  },
  {
   "cell_type": "markdown",
   "id": "0f107cc8",
   "metadata": {},
   "source": [
    "# Data was split into train and test data with an 80:20 ratio."
   ]
  },
  {
   "cell_type": "code",
   "execution_count": 205,
   "id": "d9bae852",
   "metadata": {},
   "outputs": [],
   "source": [
    "X_train, X_test, y_train, y_test = train_test_split(x, y, test_size=0.2, random_state = 0)"
   ]
  },
  {
   "cell_type": "code",
   "execution_count": 206,
   "id": "06219add",
   "metadata": {},
   "outputs": [
    {
     "data": {
      "text/plain": [
       "array([[0, 0, 0, ..., 0, 0, 0],\n",
       "       [0, 0, 0, ..., 0, 0, 0],\n",
       "       [0, 0, 0, ..., 0, 0, 0],\n",
       "       ...,\n",
       "       [0, 0, 0, ..., 0, 0, 0],\n",
       "       [0, 0, 0, ..., 0, 0, 0],\n",
       "       [0, 0, 0, ..., 0, 0, 0]], dtype=int64)"
      ]
     },
     "execution_count": 206,
     "metadata": {},
     "output_type": "execute_result"
    }
   ],
   "source": [
    "X_train"
   ]
  },
  {
   "cell_type": "code",
   "execution_count": 196,
   "id": "344700e1",
   "metadata": {},
   "outputs": [],
   "source": [
    "# Vectorize text reviews to numbers\n",
    "#vec = CountVectorizer(stop_words='english')\n",
    "#x_train = vec.fit_transform(X_train).toarray()\n",
    "#x_test = vec.transform(X_test).toarray()"
   ]
  },
  {
   "cell_type": "code",
   "execution_count": 224,
   "id": "03684e8e",
   "metadata": {},
   "outputs": [],
   "source": [
    "gnbmodel = GaussianNB()\n",
    "gnbmodel.fit(X_train , y_train)\n",
    "y_pred = gnbmodel.predict(X_test)"
   ]
  },
  {
   "cell_type": "code",
   "execution_count": 208,
   "id": "c61880f7",
   "metadata": {},
   "outputs": [
    {
     "name": "stdout",
     "output_type": "stream",
     "text": [
      "Accuracy: 64.09%\n"
     ]
    }
   ],
   "source": [
    "accuracy = accuracy_score(y_test, y_pred)\n",
    "print(\"Accuracy: %.2f%%\" % (accuracy * 100.0))"
   ]
  },
  {
   "cell_type": "code",
   "execution_count": 211,
   "id": "2d48323d",
   "metadata": {},
   "outputs": [
    {
     "data": {
      "text/plain": [
       "array([[757, 375],\n",
       "       [429, 678]], dtype=int64)"
      ]
     },
     "execution_count": 211,
     "metadata": {},
     "output_type": "execute_result"
    }
   ],
   "source": [
    "confusion_matrix(y_test, y_pred)\n"
   ]
  },
  {
   "cell_type": "code",
   "execution_count": 212,
   "id": "59b172b8",
   "metadata": {},
   "outputs": [
    {
     "name": "stdout",
     "output_type": "stream",
     "text": [
      "              precision    recall  f1-score   support\n",
      "\n",
      "         0.0       0.64      0.67      0.65      1132\n",
      "         1.0       0.64      0.61      0.63      1107\n",
      "\n",
      "    accuracy                           0.64      2239\n",
      "   macro avg       0.64      0.64      0.64      2239\n",
      "weighted avg       0.64      0.64      0.64      2239\n",
      "\n"
     ]
    }
   ],
   "source": [
    "print(classification_report(y_test, y_pred))"
   ]
  },
  {
   "cell_type": "markdown",
   "id": "c6b4d72c",
   "metadata": {},
   "source": [
    "# GridsearchCV() was used to tune hyperparameters for three classifiers."
   ]
  },
  {
   "cell_type": "code",
   "execution_count": 213,
   "id": "8197adc9",
   "metadata": {},
   "outputs": [],
   "source": [
    "param_grid_nb = {\n",
    "    'var_smoothing': np.logspace(0,-9, num=100)\n",
    "}"
   ]
  },
  {
   "cell_type": "code",
   "execution_count": 214,
   "id": "a8d6b6c8",
   "metadata": {},
   "outputs": [],
   "source": [
    "nbModel_grid = GridSearchCV(estimator=gnbmodel, param_grid=param_grid_nb, verbose=1, cv=3, n_jobs=-1)\n"
   ]
  },
  {
   "cell_type": "code",
   "execution_count": 215,
   "id": "7ab6b3c1",
   "metadata": {},
   "outputs": [
    {
     "name": "stdout",
     "output_type": "stream",
     "text": [
      "Fitting 3 folds for each of 100 candidates, totalling 300 fits\n"
     ]
    },
    {
     "data": {
      "text/plain": [
       "GridSearchCV(cv=3, estimator=GaussianNB(), n_jobs=-1,\n",
       "             param_grid={'var_smoothing': array([1.00000000e+00, 8.11130831e-01, 6.57933225e-01, 5.33669923e-01,\n",
       "       4.32876128e-01, 3.51119173e-01, 2.84803587e-01, 2.31012970e-01,\n",
       "       1.87381742e-01, 1.51991108e-01, 1.23284674e-01, 1.00000000e-01,\n",
       "       8.11130831e-02, 6.57933225e-02, 5.33669923e-02, 4.32876128e-02,\n",
       "       3.51119173e-02, 2.8480358...\n",
       "       1.23284674e-07, 1.00000000e-07, 8.11130831e-08, 6.57933225e-08,\n",
       "       5.33669923e-08, 4.32876128e-08, 3.51119173e-08, 2.84803587e-08,\n",
       "       2.31012970e-08, 1.87381742e-08, 1.51991108e-08, 1.23284674e-08,\n",
       "       1.00000000e-08, 8.11130831e-09, 6.57933225e-09, 5.33669923e-09,\n",
       "       4.32876128e-09, 3.51119173e-09, 2.84803587e-09, 2.31012970e-09,\n",
       "       1.87381742e-09, 1.51991108e-09, 1.23284674e-09, 1.00000000e-09])},\n",
       "             verbose=1)"
      ]
     },
     "execution_count": 215,
     "metadata": {},
     "output_type": "execute_result"
    }
   ],
   "source": [
    "nbModel_grid.fit(X_train, y_train)\n"
   ]
  },
  {
   "cell_type": "code",
   "execution_count": 216,
   "id": "fb108524",
   "metadata": {},
   "outputs": [
    {
     "data": {
      "text/plain": [
       "{'var_smoothing': 0.01873817422860384}"
      ]
     },
     "execution_count": 216,
     "metadata": {},
     "output_type": "execute_result"
    }
   ],
   "source": [
    "nbModel_grid.best_params_"
   ]
  },
  {
   "cell_type": "code",
   "execution_count": 217,
   "id": "b4744a86",
   "metadata": {},
   "outputs": [],
   "source": [
    "y_pred_hyper = nbModel_grid.predict(X_test)"
   ]
  },
  {
   "cell_type": "code",
   "execution_count": 218,
   "id": "649d7952",
   "metadata": {},
   "outputs": [
    {
     "name": "stdout",
     "output_type": "stream",
     "text": [
      "[[879 253]\n",
      " [512 595]] : is the confusion matrix\n"
     ]
    }
   ],
   "source": [
    "print(confusion_matrix(y_test, y_pred_hyper), \": is the confusion matrix\")"
   ]
  },
  {
   "cell_type": "code",
   "execution_count": 244,
   "id": "d11a82b8",
   "metadata": {},
   "outputs": [
    {
     "name": "stdout",
     "output_type": "stream",
     "text": [
      "Accuracy: 65.83%\n"
     ]
    }
   ],
   "source": [
    "accuracy = accuracy_score(y_test, y_pred_hyper)\n",
    "print(\"Accuracy: %.2f%%\" % (accuracy * 100.0))"
   ]
  },
  {
   "cell_type": "code",
   "execution_count": 219,
   "id": "beddb359",
   "metadata": {},
   "outputs": [
    {
     "name": "stdout",
     "output_type": "stream",
     "text": [
      "              precision    recall  f1-score   support\n",
      "\n",
      "         0.0       0.63      0.78      0.70      1132\n",
      "         1.0       0.70      0.54      0.61      1107\n",
      "\n",
      "    accuracy                           0.66      2239\n",
      "   macro avg       0.67      0.66      0.65      2239\n",
      "weighted avg       0.67      0.66      0.65      2239\n",
      "\n"
     ]
    }
   ],
   "source": [
    "print(classification_report(y_test, y_pred_hyper))"
   ]
  },
  {
   "cell_type": "code",
   "execution_count": 249,
   "id": "ea43b281",
   "metadata": {},
   "outputs": [],
   "source": [
    "# save the model to disk\n",
    "filenameRF = 'model_pt_f.sav'\n",
    "\n",
    "\n",
    "pickle.dump(nbModel_grid, open(filenameRF, 'wb'))"
   ]
  },
  {
   "cell_type": "markdown",
   "id": "9ea0e472",
   "metadata": {},
   "source": [
    "# Lightgbm Classifier"
   ]
  },
  {
   "cell_type": "code",
   "execution_count": 225,
   "id": "61cf7501",
   "metadata": {},
   "outputs": [
    {
     "data": {
      "text/plain": [
       "LGBMClassifier(max_depth=3)"
      ]
     },
     "execution_count": 225,
     "metadata": {},
     "output_type": "execute_result"
    }
   ],
   "source": [
    "lgbmodel = LGBMClassifier(max_depth=3)\n",
    "lgbmodel.fit(X_train, y_train)"
   ]
  },
  {
   "cell_type": "code",
   "execution_count": 226,
   "id": "f5317727",
   "metadata": {},
   "outputs": [],
   "source": [
    "y_pred1= lgbmodel.predict(X_test)"
   ]
  },
  {
   "cell_type": "code",
   "execution_count": 230,
   "id": "734ea2c1",
   "metadata": {},
   "outputs": [
    {
     "name": "stdout",
     "output_type": "stream",
     "text": [
      "Accuracy: 61.32%\n"
     ]
    }
   ],
   "source": [
    "accuracy = accuracy_score(y_test, y_pred1)\n",
    "\n",
    "print(\"Accuracy: %.2f%%\" % (accuracy * 100.0))"
   ]
  },
  {
   "cell_type": "markdown",
   "id": "e9f86000",
   "metadata": {},
   "source": [
    "# Hyper parameter tuning using Grid Search CV"
   ]
  },
  {
   "cell_type": "code",
   "execution_count": 231,
   "id": "43154570",
   "metadata": {},
   "outputs": [],
   "source": [
    "param_grid = {\n",
    "              \"max_depth\": [2, 3, 5, 10],\n",
    "              \"min_child_weight\": [0.001, 0.002],\n",
    "              \"learning_rate\": [0.05, 0.1]\n",
    "              }"
   ]
  },
  {
   "cell_type": "code",
   "execution_count": 232,
   "id": "1a61dc7a",
   "metadata": {},
   "outputs": [
    {
     "data": {
      "text/plain": [
       "GridSearchCV(cv=3, estimator=LGBMClassifier(max_depth=3), n_jobs=-1,\n",
       "             param_grid={'learning_rate': [0.05, 0.1],\n",
       "                         'max_depth': [2, 3, 5, 10],\n",
       "                         'min_child_weight': [0.001, 0.002]})"
      ]
     },
     "execution_count": 232,
     "metadata": {},
     "output_type": "execute_result"
    }
   ],
   "source": [
    "lgbgrid = GridSearchCV(estimator = lgbmodel, param_grid = param_grid, cv = 3, n_jobs = -1, verbose = 0)\n",
    "\n",
    "lgbgrid.fit(X_train, y_train)"
   ]
  },
  {
   "cell_type": "code",
   "execution_count": 233,
   "id": "90f6ff1a",
   "metadata": {},
   "outputs": [
    {
     "data": {
      "text/plain": [
       "{'learning_rate': 0.1, 'max_depth': 10, 'min_child_weight': 0.001}"
      ]
     },
     "execution_count": 233,
     "metadata": {},
     "output_type": "execute_result"
    }
   ],
   "source": [
    "lgbgrid.best_params_"
   ]
  },
  {
   "cell_type": "code",
   "execution_count": 234,
   "id": "1a1dca47",
   "metadata": {},
   "outputs": [],
   "source": [
    "y_pred1_hyper = lgbgrid.predict(X_test)"
   ]
  },
  {
   "cell_type": "code",
   "execution_count": 235,
   "id": "fb625a74",
   "metadata": {},
   "outputs": [
    {
     "name": "stdout",
     "output_type": "stream",
     "text": [
      "Accuracy: 63.82%\n"
     ]
    }
   ],
   "source": [
    "accuracy = accuracy_score(y_test, y_pred1_hyper)\n",
    "print(\"Accuracy: %.2f%%\" % (accuracy * 100.0))"
   ]
  },
  {
   "cell_type": "markdown",
   "id": "5c0eaccf",
   "metadata": {},
   "source": [
    "# XGBoost Classifier"
   ]
  },
  {
   "cell_type": "code",
   "execution_count": 236,
   "id": "e143143d",
   "metadata": {},
   "outputs": [
    {
     "name": "stdout",
     "output_type": "stream",
     "text": [
      "[12:08:41] WARNING: C:/Users/Administrator/workspace/xgboost-win64_release_1.4.0/src/learner.cc:1095: Starting in XGBoost 1.3.0, the default evaluation metric used with the objective 'binary:logistic' was changed from 'error' to 'logloss'. Explicitly set eval_metric if you'd like to restore the old behavior.\n"
     ]
    },
    {
     "data": {
      "text/plain": [
       "XGBClassifier(base_score=0.5, booster='gbtree', colsample_bylevel=1,\n",
       "              colsample_bynode=1, colsample_bytree=1, gamma=0, gpu_id=-1,\n",
       "              importance_type='gain', interaction_constraints='',\n",
       "              learning_rate=0.300000012, max_delta_step=0, max_depth=5,\n",
       "              min_child_weight=1, missing=nan, monotone_constraints='()',\n",
       "              n_estimators=100, n_jobs=4, num_parallel_tree=1, random_state=0,\n",
       "              reg_alpha=0, reg_lambda=1, scale_pos_weight=1, subsample=1,\n",
       "              tree_method='exact', validate_parameters=1, verbosity=None)"
      ]
     },
     "execution_count": 236,
     "metadata": {},
     "output_type": "execute_result"
    }
   ],
   "source": [
    "xgbmodel = XGBClassifier(max_depth=5, min_child_weight=1)\n",
    "xgbmodel.fit(X_train, y_train)"
   ]
  },
  {
   "cell_type": "code",
   "execution_count": 248,
   "id": "7d46835c",
   "metadata": {},
   "outputs": [],
   "source": [
    "# save the model to disk\n",
    "filenameRF = 'model_pt.sav'\n",
    "\n",
    "\n",
    "pickle.dump(xgbmodel, open(filenameRF, 'wb'))"
   ]
  },
  {
   "cell_type": "code",
   "execution_count": 237,
   "id": "05f427ca",
   "metadata": {},
   "outputs": [],
   "source": [
    "y_pred2 = xgbmodel.predict(X_test)\n"
   ]
  },
  {
   "cell_type": "code",
   "execution_count": 238,
   "id": "ddc2fef8",
   "metadata": {},
   "outputs": [
    {
     "name": "stdout",
     "output_type": "stream",
     "text": [
      "Accuracy: 64.31%\n"
     ]
    }
   ],
   "source": [
    "accuracy = accuracy_score(y_test, y_pred2)\n",
    "print(\"Accuracy: %.2f%%\" % (accuracy * 100.0))"
   ]
  },
  {
   "cell_type": "markdown",
   "id": "942dc4b9",
   "metadata": {},
   "source": [
    "# Hyperparameter tuning of XGBoost Classifier using GridsearchCV() function."
   ]
  },
  {
   "cell_type": "code",
   "execution_count": 239,
   "id": "71223463",
   "metadata": {},
   "outputs": [],
   "source": [
    "xgb_param_grid = {\n",
    "              \"max_depth\": [3, 5],\n",
    "              \"min_child_weight\": [1, 2],\n",
    "              }"
   ]
  },
  {
   "cell_type": "code",
   "execution_count": 240,
   "id": "ef40dddd",
   "metadata": {},
   "outputs": [
    {
     "name": "stdout",
     "output_type": "stream",
     "text": [
      "[12:17:04] WARNING: C:/Users/Administrator/workspace/xgboost-win64_release_1.4.0/src/learner.cc:1095: Starting in XGBoost 1.3.0, the default evaluation metric used with the objective 'binary:logistic' was changed from 'error' to 'logloss'. Explicitly set eval_metric if you'd like to restore the old behavior.\n"
     ]
    },
    {
     "data": {
      "text/plain": [
       "GridSearchCV(cv=3,\n",
       "             estimator=XGBClassifier(base_score=0.5, booster='gbtree',\n",
       "                                     colsample_bylevel=1, colsample_bynode=1,\n",
       "                                     colsample_bytree=1, gamma=0, gpu_id=-1,\n",
       "                                     importance_type='gain',\n",
       "                                     interaction_constraints='',\n",
       "                                     learning_rate=0.300000012,\n",
       "                                     max_delta_step=0, max_depth=5,\n",
       "                                     min_child_weight=1, missing=nan,\n",
       "                                     monotone_constraints='()',\n",
       "                                     n_estimators=100, n_jobs=4,\n",
       "                                     num_parallel_tree=1, random_state=0,\n",
       "                                     reg_alpha=0, reg_lambda=1,\n",
       "                                     scale_pos_weight=1, subsample=1,\n",
       "                                     tree_method='exact', validate_parameters=1,\n",
       "                                     verbosity=None),\n",
       "             n_jobs=-1,\n",
       "             param_grid={'max_depth': [3, 5], 'min_child_weight': [1, 2]})"
      ]
     },
     "execution_count": 240,
     "metadata": {},
     "output_type": "execute_result"
    }
   ],
   "source": [
    "xgbgrid = GridSearchCV(estimator = xgbmodel, param_grid = xgb_param_grid, cv = 3, n_jobs = -1, verbose = 0)\n",
    "\n",
    "xgbgrid.fit(X_train, y_train)"
   ]
  },
  {
   "cell_type": "code",
   "execution_count": 241,
   "id": "6b7d90a2",
   "metadata": {},
   "outputs": [
    {
     "data": {
      "text/plain": [
       "{'max_depth': 5, 'min_child_weight': 2}"
      ]
     },
     "execution_count": 241,
     "metadata": {},
     "output_type": "execute_result"
    }
   ],
   "source": [
    "xgbgrid.best_params_"
   ]
  },
  {
   "cell_type": "code",
   "execution_count": 242,
   "id": "8ea7599d",
   "metadata": {},
   "outputs": [],
   "source": [
    "y_pred2_hyper = xgbgrid.predict(X_test)\n"
   ]
  },
  {
   "cell_type": "code",
   "execution_count": 250,
   "id": "d0940943",
   "metadata": {},
   "outputs": [
    {
     "data": {
      "text/plain": [
       "array([0., 0., 1., ..., 0., 0., 0.])"
      ]
     },
     "execution_count": 250,
     "metadata": {},
     "output_type": "execute_result"
    }
   ],
   "source": [
    "y_pred2_hyper"
   ]
  },
  {
   "cell_type": "code",
   "execution_count": 243,
   "id": "69d6381a",
   "metadata": {},
   "outputs": [
    {
     "name": "stdout",
     "output_type": "stream",
     "text": [
      "Accuracy: 64.63%\n"
     ]
    }
   ],
   "source": [
    "accuracy = accuracy_score(y_test, y_pred2_hyper)\n",
    "print(\"Accuracy: %.2f%%\" % (accuracy * 100.0))"
   ]
  },
  {
   "cell_type": "code",
   "execution_count": null,
   "id": "b008ebb6",
   "metadata": {},
   "outputs": [],
   "source": []
  }
 ],
 "metadata": {
  "kernelspec": {
   "display_name": "Python 3",
   "language": "python",
   "name": "python3"
  },
  "language_info": {
   "codemirror_mode": {
    "name": "ipython",
    "version": 3
   },
   "file_extension": ".py",
   "mimetype": "text/x-python",
   "name": "python",
   "nbconvert_exporter": "python",
   "pygments_lexer": "ipython3",
   "version": "3.8.8"
  }
 },
 "nbformat": 4,
 "nbformat_minor": 5
}
